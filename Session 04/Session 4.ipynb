{
 "cells": [
  {
   "cell_type": "code",
   "execution_count": 1,
   "id": "f6716de9",
   "metadata": {},
   "outputs": [],
   "source": [
    "import pandas as pd"
   ]
  },
  {
   "cell_type": "code",
   "execution_count": 2,
   "id": "e8a7362c",
   "metadata": {},
   "outputs": [],
   "source": [
    "happiness_2015 = pd.read_csv(\"World_happiness_2015.csv\")"
   ]
  },
  {
   "cell_type": "code",
   "execution_count": 3,
   "id": "ed15bb4d",
   "metadata": {},
   "outputs": [
    {
     "data": {
      "text/plain": [
       "Index(['Country', 'Region', 'Happiness Rank', 'Happiness Score',\n",
       "       'Standard Error', 'Economy (GDP per Capita)', 'Family',\n",
       "       'Health (Life Expectancy)', 'Freedom', 'Trust (Government Corruption)',\n",
       "       'Generosity', 'Dystopia Residual'],\n",
       "      dtype='object')"
      ]
     },
     "execution_count": 3,
     "metadata": {},
     "output_type": "execute_result"
    }
   ],
   "source": [
    "happiness_2015.columns"
   ]
  },
  {
   "cell_type": "code",
   "execution_count": 4,
   "id": "1c9b6e5b",
   "metadata": {},
   "outputs": [],
   "source": [
    "mapping = {'Economy (GDP per Capita)':'Economy','Health (Life Expectancy)':'Health','Trust (Government Corruption)':'Trust'}"
   ]
  },
  {
   "cell_type": "code",
   "execution_count": 5,
   "id": "1e46023a",
   "metadata": {},
   "outputs": [],
   "source": [
    "happiness_2015.rename(columns = mapping, inplace = True)"
   ]
  },
  {
   "cell_type": "code",
   "execution_count": 6,
   "id": "72e145e6",
   "metadata": {},
   "outputs": [
    {
     "data": {
      "text/plain": [
       "Index(['Country', 'Region', 'Happiness Rank', 'Happiness Score',\n",
       "       'Standard Error', 'Economy', 'Family', 'Health', 'Freedom', 'Trust',\n",
       "       'Generosity', 'Dystopia Residual'],\n",
       "      dtype='object')"
      ]
     },
     "execution_count": 6,
     "metadata": {},
     "output_type": "execute_result"
    }
   ],
   "source": [
    "happiness_2015.columns"
   ]
  },
  {
   "cell_type": "code",
   "execution_count": 7,
   "id": "e42ada2a",
   "metadata": {},
   "outputs": [
    {
     "data": {
      "text/plain": [
       "1.39651    1\n",
       "0.39753    1\n",
       "1.15406    1\n",
       "1.02564    1\n",
       "1.12094    1\n",
       "          ..\n",
       "1.12254    1\n",
       "1.18498    1\n",
       "1.14723    1\n",
       "0.59325    1\n",
       "0.20868    1\n",
       "Name: Economy, Length: 158, dtype: int64"
      ]
     },
     "execution_count": 7,
     "metadata": {},
     "output_type": "execute_result"
    }
   ],
   "source": [
    "happiness_2015['Economy'].value_counts()"
   ]
  },
  {
   "cell_type": "code",
   "execution_count": 8,
   "id": "79fc3a72",
   "metadata": {},
   "outputs": [
    {
     "data": {
      "text/plain": [
       "0      1.39651\n",
       "1      1.30232\n",
       "2      1.32548\n",
       "3      1.45900\n",
       "4      1.32629\n",
       "        ...   \n",
       "153    0.22208\n",
       "154    0.28665\n",
       "155    0.66320\n",
       "156    0.01530\n",
       "157    0.20868\n",
       "Name: Economy, Length: 158, dtype: float64"
      ]
     },
     "execution_count": 8,
     "metadata": {},
     "output_type": "execute_result"
    }
   ],
   "source": [
    "happiness_2015['Economy']"
   ]
  },
  {
   "cell_type": "code",
   "execution_count": 9,
   "id": "e0a62fc0",
   "metadata": {},
   "outputs": [],
   "source": [
    "def category(element):\n",
    "    if element > 1:\n",
    "        return \"High\"\n",
    "    else:\n",
    "        return \"Low\""
   ]
  },
  {
   "cell_type": "code",
   "execution_count": 10,
   "id": "e554cae9",
   "metadata": {},
   "outputs": [
    {
     "data": {
      "text/plain": [
       "0      High\n",
       "1      High\n",
       "2      High\n",
       "3      High\n",
       "4      High\n",
       "       ... \n",
       "153     Low\n",
       "154     Low\n",
       "155     Low\n",
       "156     Low\n",
       "157     Low\n",
       "Name: Economy, Length: 158, dtype: object"
      ]
     },
     "execution_count": 10,
     "metadata": {},
     "output_type": "execute_result"
    }
   ],
   "source": [
    "happiness_2015[\"Economy\"].map(category)"
   ]
  },
  {
   "cell_type": "code",
   "execution_count": 11,
   "id": "ce911e0e",
   "metadata": {},
   "outputs": [],
   "source": [
    "def category(element,x):\n",
    "    if element > x:\n",
    "        return \"High\"\n",
    "    else:\n",
    "        return \"Low\""
   ]
  },
  {
   "cell_type": "code",
   "execution_count": 12,
   "id": "a64d3ffb",
   "metadata": {},
   "outputs": [
    {
     "data": {
      "text/plain": [
       "0      High\n",
       "1      High\n",
       "2      High\n",
       "3      High\n",
       "4      High\n",
       "       ... \n",
       "153     Low\n",
       "154     Low\n",
       "155     Low\n",
       "156     Low\n",
       "157     Low\n",
       "Name: Family, Length: 158, dtype: object"
      ]
     },
     "execution_count": 12,
     "metadata": {},
     "output_type": "execute_result"
    }
   ],
   "source": [
    "happiness_2015[\"Family\"].apply(category,x=0.8)"
   ]
  },
  {
   "cell_type": "code",
   "execution_count": 13,
   "id": "d913d941",
   "metadata": {},
   "outputs": [],
   "source": [
    "cols = ['Economy', 'Family', 'Health', 'Freedom', 'Trust',\n",
    "       'Generosity']"
   ]
  },
  {
   "cell_type": "code",
   "execution_count": 14,
   "id": "894eb956",
   "metadata": {},
   "outputs": [
    {
     "data": {
      "text/html": [
       "<div>\n",
       "<style scoped>\n",
       "    .dataframe tbody tr th:only-of-type {\n",
       "        vertical-align: middle;\n",
       "    }\n",
       "\n",
       "    .dataframe tbody tr th {\n",
       "        vertical-align: top;\n",
       "    }\n",
       "\n",
       "    .dataframe thead th {\n",
       "        text-align: right;\n",
       "    }\n",
       "</style>\n",
       "<table border=\"1\" class=\"dataframe\">\n",
       "  <thead>\n",
       "    <tr style=\"text-align: right;\">\n",
       "      <th></th>\n",
       "      <th>Economy</th>\n",
       "      <th>Family</th>\n",
       "      <th>Health</th>\n",
       "      <th>Freedom</th>\n",
       "      <th>Trust</th>\n",
       "      <th>Generosity</th>\n",
       "    </tr>\n",
       "  </thead>\n",
       "  <tbody>\n",
       "    <tr>\n",
       "      <th>0</th>\n",
       "      <td>1.39651</td>\n",
       "      <td>1.34951</td>\n",
       "      <td>0.94143</td>\n",
       "      <td>0.66557</td>\n",
       "      <td>0.41978</td>\n",
       "      <td>0.29678</td>\n",
       "    </tr>\n",
       "    <tr>\n",
       "      <th>1</th>\n",
       "      <td>1.30232</td>\n",
       "      <td>1.40223</td>\n",
       "      <td>0.94784</td>\n",
       "      <td>0.62877</td>\n",
       "      <td>0.14145</td>\n",
       "      <td>0.43630</td>\n",
       "    </tr>\n",
       "    <tr>\n",
       "      <th>2</th>\n",
       "      <td>1.32548</td>\n",
       "      <td>1.36058</td>\n",
       "      <td>0.87464</td>\n",
       "      <td>0.64938</td>\n",
       "      <td>0.48357</td>\n",
       "      <td>0.34139</td>\n",
       "    </tr>\n",
       "    <tr>\n",
       "      <th>3</th>\n",
       "      <td>1.45900</td>\n",
       "      <td>1.33095</td>\n",
       "      <td>0.88521</td>\n",
       "      <td>0.66973</td>\n",
       "      <td>0.36503</td>\n",
       "      <td>0.34699</td>\n",
       "    </tr>\n",
       "    <tr>\n",
       "      <th>4</th>\n",
       "      <td>1.32629</td>\n",
       "      <td>1.32261</td>\n",
       "      <td>0.90563</td>\n",
       "      <td>0.63297</td>\n",
       "      <td>0.32957</td>\n",
       "      <td>0.45811</td>\n",
       "    </tr>\n",
       "  </tbody>\n",
       "</table>\n",
       "</div>"
      ],
      "text/plain": [
       "   Economy   Family   Health  Freedom    Trust  Generosity\n",
       "0  1.39651  1.34951  0.94143  0.66557  0.41978     0.29678\n",
       "1  1.30232  1.40223  0.94784  0.62877  0.14145     0.43630\n",
       "2  1.32548  1.36058  0.87464  0.64938  0.48357     0.34139\n",
       "3  1.45900  1.33095  0.88521  0.66973  0.36503     0.34699\n",
       "4  1.32629  1.32261  0.90563  0.63297  0.32957     0.45811"
      ]
     },
     "execution_count": 14,
     "metadata": {},
     "output_type": "execute_result"
    }
   ],
   "source": [
    "happiness = happiness_2015[cols]\n",
    "happiness.head()"
   ]
  },
  {
   "cell_type": "code",
   "execution_count": 15,
   "id": "c6f50c49",
   "metadata": {},
   "outputs": [],
   "source": [
    "def category(element):\n",
    "    if element > 1:\n",
    "        return \"High\"\n",
    "    else:\n",
    "        return \"Low\""
   ]
  },
  {
   "cell_type": "code",
   "execution_count": 16,
   "id": "3ab6ceca",
   "metadata": {},
   "outputs": [
    {
     "data": {
      "text/html": [
       "<div>\n",
       "<style scoped>\n",
       "    .dataframe tbody tr th:only-of-type {\n",
       "        vertical-align: middle;\n",
       "    }\n",
       "\n",
       "    .dataframe tbody tr th {\n",
       "        vertical-align: top;\n",
       "    }\n",
       "\n",
       "    .dataframe thead th {\n",
       "        text-align: right;\n",
       "    }\n",
       "</style>\n",
       "<table border=\"1\" class=\"dataframe\">\n",
       "  <thead>\n",
       "    <tr style=\"text-align: right;\">\n",
       "      <th></th>\n",
       "      <th>Economy</th>\n",
       "      <th>Family</th>\n",
       "      <th>Health</th>\n",
       "      <th>Freedom</th>\n",
       "      <th>Trust</th>\n",
       "      <th>Generosity</th>\n",
       "    </tr>\n",
       "  </thead>\n",
       "  <tbody>\n",
       "    <tr>\n",
       "      <th>0</th>\n",
       "      <td>High</td>\n",
       "      <td>High</td>\n",
       "      <td>Low</td>\n",
       "      <td>Low</td>\n",
       "      <td>Low</td>\n",
       "      <td>Low</td>\n",
       "    </tr>\n",
       "    <tr>\n",
       "      <th>1</th>\n",
       "      <td>High</td>\n",
       "      <td>High</td>\n",
       "      <td>Low</td>\n",
       "      <td>Low</td>\n",
       "      <td>Low</td>\n",
       "      <td>Low</td>\n",
       "    </tr>\n",
       "    <tr>\n",
       "      <th>2</th>\n",
       "      <td>High</td>\n",
       "      <td>High</td>\n",
       "      <td>Low</td>\n",
       "      <td>Low</td>\n",
       "      <td>Low</td>\n",
       "      <td>Low</td>\n",
       "    </tr>\n",
       "    <tr>\n",
       "      <th>3</th>\n",
       "      <td>High</td>\n",
       "      <td>High</td>\n",
       "      <td>Low</td>\n",
       "      <td>Low</td>\n",
       "      <td>Low</td>\n",
       "      <td>Low</td>\n",
       "    </tr>\n",
       "    <tr>\n",
       "      <th>4</th>\n",
       "      <td>High</td>\n",
       "      <td>High</td>\n",
       "      <td>Low</td>\n",
       "      <td>Low</td>\n",
       "      <td>Low</td>\n",
       "      <td>Low</td>\n",
       "    </tr>\n",
       "    <tr>\n",
       "      <th>...</th>\n",
       "      <td>...</td>\n",
       "      <td>...</td>\n",
       "      <td>...</td>\n",
       "      <td>...</td>\n",
       "      <td>...</td>\n",
       "      <td>...</td>\n",
       "    </tr>\n",
       "    <tr>\n",
       "      <th>153</th>\n",
       "      <td>Low</td>\n",
       "      <td>Low</td>\n",
       "      <td>Low</td>\n",
       "      <td>Low</td>\n",
       "      <td>Low</td>\n",
       "      <td>Low</td>\n",
       "    </tr>\n",
       "    <tr>\n",
       "      <th>154</th>\n",
       "      <td>Low</td>\n",
       "      <td>Low</td>\n",
       "      <td>Low</td>\n",
       "      <td>Low</td>\n",
       "      <td>Low</td>\n",
       "      <td>Low</td>\n",
       "    </tr>\n",
       "    <tr>\n",
       "      <th>155</th>\n",
       "      <td>Low</td>\n",
       "      <td>Low</td>\n",
       "      <td>Low</td>\n",
       "      <td>Low</td>\n",
       "      <td>Low</td>\n",
       "      <td>Low</td>\n",
       "    </tr>\n",
       "    <tr>\n",
       "      <th>156</th>\n",
       "      <td>Low</td>\n",
       "      <td>Low</td>\n",
       "      <td>Low</td>\n",
       "      <td>Low</td>\n",
       "      <td>Low</td>\n",
       "      <td>Low</td>\n",
       "    </tr>\n",
       "    <tr>\n",
       "      <th>157</th>\n",
       "      <td>Low</td>\n",
       "      <td>Low</td>\n",
       "      <td>Low</td>\n",
       "      <td>Low</td>\n",
       "      <td>Low</td>\n",
       "      <td>Low</td>\n",
       "    </tr>\n",
       "  </tbody>\n",
       "</table>\n",
       "<p>158 rows × 6 columns</p>\n",
       "</div>"
      ],
      "text/plain": [
       "    Economy Family Health Freedom Trust Generosity\n",
       "0      High   High    Low     Low   Low        Low\n",
       "1      High   High    Low     Low   Low        Low\n",
       "2      High   High    Low     Low   Low        Low\n",
       "3      High   High    Low     Low   Low        Low\n",
       "4      High   High    Low     Low   Low        Low\n",
       "..      ...    ...    ...     ...   ...        ...\n",
       "153     Low    Low    Low     Low   Low        Low\n",
       "154     Low    Low    Low     Low   Low        Low\n",
       "155     Low    Low    Low     Low   Low        Low\n",
       "156     Low    Low    Low     Low   Low        Low\n",
       "157     Low    Low    Low     Low   Low        Low\n",
       "\n",
       "[158 rows x 6 columns]"
      ]
     },
     "execution_count": 16,
     "metadata": {},
     "output_type": "execute_result"
    }
   ],
   "source": [
    "happiness.applymap(category)"
   ]
  },
  {
   "cell_type": "code",
   "execution_count": 17,
   "id": "055c284c",
   "metadata": {},
   "outputs": [],
   "source": [
    "main_col = ['Country', 'Region', 'Happiness Rank', 'Happiness Score']\n",
    "Factors = ['Standard Error', 'Economy', 'Family', 'Health', 'Freedom', 'Trust',\n",
    "       'Generosity', 'Dystopia Residual']"
   ]
  },
  {
   "cell_type": "code",
   "execution_count": 18,
   "id": "c1aa1a7a",
   "metadata": {},
   "outputs": [],
   "source": [
    "melt = pd.melt(happiness_2015, id_vars = main_col, value_vars = Factors )"
   ]
  },
  {
   "cell_type": "code",
   "execution_count": 19,
   "id": "e560a469",
   "metadata": {},
   "outputs": [
    {
     "data": {
      "text/html": [
       "<div>\n",
       "<style scoped>\n",
       "    .dataframe tbody tr th:only-of-type {\n",
       "        vertical-align: middle;\n",
       "    }\n",
       "\n",
       "    .dataframe tbody tr th {\n",
       "        vertical-align: top;\n",
       "    }\n",
       "\n",
       "    .dataframe thead th {\n",
       "        text-align: right;\n",
       "    }\n",
       "</style>\n",
       "<table border=\"1\" class=\"dataframe\">\n",
       "  <thead>\n",
       "    <tr style=\"text-align: right;\">\n",
       "      <th></th>\n",
       "      <th>Country</th>\n",
       "      <th>Region</th>\n",
       "      <th>Happiness Rank</th>\n",
       "      <th>Happiness Score</th>\n",
       "      <th>variable</th>\n",
       "      <th>value</th>\n",
       "    </tr>\n",
       "  </thead>\n",
       "  <tbody>\n",
       "    <tr>\n",
       "      <th>0</th>\n",
       "      <td>Switzerland</td>\n",
       "      <td>Western Europe</td>\n",
       "      <td>1</td>\n",
       "      <td>7.587</td>\n",
       "      <td>Standard Error</td>\n",
       "      <td>0.03411</td>\n",
       "    </tr>\n",
       "    <tr>\n",
       "      <th>1</th>\n",
       "      <td>Iceland</td>\n",
       "      <td>Western Europe</td>\n",
       "      <td>2</td>\n",
       "      <td>7.561</td>\n",
       "      <td>Standard Error</td>\n",
       "      <td>0.04884</td>\n",
       "    </tr>\n",
       "    <tr>\n",
       "      <th>2</th>\n",
       "      <td>Denmark</td>\n",
       "      <td>Western Europe</td>\n",
       "      <td>3</td>\n",
       "      <td>7.527</td>\n",
       "      <td>Standard Error</td>\n",
       "      <td>0.03328</td>\n",
       "    </tr>\n",
       "    <tr>\n",
       "      <th>3</th>\n",
       "      <td>Norway</td>\n",
       "      <td>Western Europe</td>\n",
       "      <td>4</td>\n",
       "      <td>7.522</td>\n",
       "      <td>Standard Error</td>\n",
       "      <td>0.03880</td>\n",
       "    </tr>\n",
       "    <tr>\n",
       "      <th>4</th>\n",
       "      <td>Canada</td>\n",
       "      <td>North America</td>\n",
       "      <td>5</td>\n",
       "      <td>7.427</td>\n",
       "      <td>Standard Error</td>\n",
       "      <td>0.03553</td>\n",
       "    </tr>\n",
       "    <tr>\n",
       "      <th>...</th>\n",
       "      <td>...</td>\n",
       "      <td>...</td>\n",
       "      <td>...</td>\n",
       "      <td>...</td>\n",
       "      <td>...</td>\n",
       "      <td>...</td>\n",
       "    </tr>\n",
       "    <tr>\n",
       "      <th>1259</th>\n",
       "      <td>Rwanda</td>\n",
       "      <td>Sub-Saharan Africa</td>\n",
       "      <td>154</td>\n",
       "      <td>3.465</td>\n",
       "      <td>Dystopia Residual</td>\n",
       "      <td>0.67042</td>\n",
       "    </tr>\n",
       "    <tr>\n",
       "      <th>1260</th>\n",
       "      <td>Benin</td>\n",
       "      <td>Sub-Saharan Africa</td>\n",
       "      <td>155</td>\n",
       "      <td>3.340</td>\n",
       "      <td>Dystopia Residual</td>\n",
       "      <td>1.63328</td>\n",
       "    </tr>\n",
       "    <tr>\n",
       "      <th>1261</th>\n",
       "      <td>Syria</td>\n",
       "      <td>Middle East and Northern Africa</td>\n",
       "      <td>156</td>\n",
       "      <td>3.006</td>\n",
       "      <td>Dystopia Residual</td>\n",
       "      <td>0.32858</td>\n",
       "    </tr>\n",
       "    <tr>\n",
       "      <th>1262</th>\n",
       "      <td>Burundi</td>\n",
       "      <td>Sub-Saharan Africa</td>\n",
       "      <td>157</td>\n",
       "      <td>2.905</td>\n",
       "      <td>Dystopia Residual</td>\n",
       "      <td>1.83302</td>\n",
       "    </tr>\n",
       "    <tr>\n",
       "      <th>1263</th>\n",
       "      <td>Togo</td>\n",
       "      <td>Sub-Saharan Africa</td>\n",
       "      <td>158</td>\n",
       "      <td>2.839</td>\n",
       "      <td>Dystopia Residual</td>\n",
       "      <td>1.56726</td>\n",
       "    </tr>\n",
       "  </tbody>\n",
       "</table>\n",
       "<p>1264 rows × 6 columns</p>\n",
       "</div>"
      ],
      "text/plain": [
       "          Country                           Region  Happiness Rank  \\\n",
       "0     Switzerland                   Western Europe               1   \n",
       "1         Iceland                   Western Europe               2   \n",
       "2         Denmark                   Western Europe               3   \n",
       "3          Norway                   Western Europe               4   \n",
       "4          Canada                    North America               5   \n",
       "...           ...                              ...             ...   \n",
       "1259       Rwanda               Sub-Saharan Africa             154   \n",
       "1260        Benin               Sub-Saharan Africa             155   \n",
       "1261        Syria  Middle East and Northern Africa             156   \n",
       "1262      Burundi               Sub-Saharan Africa             157   \n",
       "1263         Togo               Sub-Saharan Africa             158   \n",
       "\n",
       "      Happiness Score           variable    value  \n",
       "0               7.587     Standard Error  0.03411  \n",
       "1               7.561     Standard Error  0.04884  \n",
       "2               7.527     Standard Error  0.03328  \n",
       "3               7.522     Standard Error  0.03880  \n",
       "4               7.427     Standard Error  0.03553  \n",
       "...               ...                ...      ...  \n",
       "1259            3.465  Dystopia Residual  0.67042  \n",
       "1260            3.340  Dystopia Residual  1.63328  \n",
       "1261            3.006  Dystopia Residual  0.32858  \n",
       "1262            2.905  Dystopia Residual  1.83302  \n",
       "1263            2.839  Dystopia Residual  1.56726  \n",
       "\n",
       "[1264 rows x 6 columns]"
      ]
     },
     "execution_count": 19,
     "metadata": {},
     "output_type": "execute_result"
    }
   ],
   "source": [
    "melt"
   ]
  },
  {
   "cell_type": "code",
   "execution_count": 20,
   "id": "84ac49db",
   "metadata": {},
   "outputs": [
    {
     "data": {
      "text/html": [
       "<div>\n",
       "<style scoped>\n",
       "    .dataframe tbody tr th:only-of-type {\n",
       "        vertical-align: middle;\n",
       "    }\n",
       "\n",
       "    .dataframe tbody tr th {\n",
       "        vertical-align: top;\n",
       "    }\n",
       "\n",
       "    .dataframe thead th {\n",
       "        text-align: right;\n",
       "    }\n",
       "</style>\n",
       "<table border=\"1\" class=\"dataframe\">\n",
       "  <thead>\n",
       "    <tr style=\"text-align: right;\">\n",
       "      <th></th>\n",
       "      <th>Country</th>\n",
       "      <th>Region</th>\n",
       "      <th>Happiness Rank</th>\n",
       "      <th>Happiness Score</th>\n",
       "      <th>variable</th>\n",
       "      <th>value</th>\n",
       "    </tr>\n",
       "  </thead>\n",
       "  <tbody>\n",
       "    <tr>\n",
       "      <th>80</th>\n",
       "      <td>Pakistan</td>\n",
       "      <td>Southern Asia</td>\n",
       "      <td>81</td>\n",
       "      <td>5.194</td>\n",
       "      <td>Standard Error</td>\n",
       "      <td>0.03726</td>\n",
       "    </tr>\n",
       "    <tr>\n",
       "      <th>238</th>\n",
       "      <td>Pakistan</td>\n",
       "      <td>Southern Asia</td>\n",
       "      <td>81</td>\n",
       "      <td>5.194</td>\n",
       "      <td>Economy</td>\n",
       "      <td>0.59543</td>\n",
       "    </tr>\n",
       "    <tr>\n",
       "      <th>396</th>\n",
       "      <td>Pakistan</td>\n",
       "      <td>Southern Asia</td>\n",
       "      <td>81</td>\n",
       "      <td>5.194</td>\n",
       "      <td>Family</td>\n",
       "      <td>0.41411</td>\n",
       "    </tr>\n",
       "    <tr>\n",
       "      <th>554</th>\n",
       "      <td>Pakistan</td>\n",
       "      <td>Southern Asia</td>\n",
       "      <td>81</td>\n",
       "      <td>5.194</td>\n",
       "      <td>Health</td>\n",
       "      <td>0.51466</td>\n",
       "    </tr>\n",
       "    <tr>\n",
       "      <th>712</th>\n",
       "      <td>Pakistan</td>\n",
       "      <td>Southern Asia</td>\n",
       "      <td>81</td>\n",
       "      <td>5.194</td>\n",
       "      <td>Freedom</td>\n",
       "      <td>0.12102</td>\n",
       "    </tr>\n",
       "    <tr>\n",
       "      <th>870</th>\n",
       "      <td>Pakistan</td>\n",
       "      <td>Southern Asia</td>\n",
       "      <td>81</td>\n",
       "      <td>5.194</td>\n",
       "      <td>Trust</td>\n",
       "      <td>0.10464</td>\n",
       "    </tr>\n",
       "    <tr>\n",
       "      <th>1028</th>\n",
       "      <td>Pakistan</td>\n",
       "      <td>Southern Asia</td>\n",
       "      <td>81</td>\n",
       "      <td>5.194</td>\n",
       "      <td>Generosity</td>\n",
       "      <td>0.33671</td>\n",
       "    </tr>\n",
       "    <tr>\n",
       "      <th>1186</th>\n",
       "      <td>Pakistan</td>\n",
       "      <td>Southern Asia</td>\n",
       "      <td>81</td>\n",
       "      <td>5.194</td>\n",
       "      <td>Dystopia Residual</td>\n",
       "      <td>3.10709</td>\n",
       "    </tr>\n",
       "  </tbody>\n",
       "</table>\n",
       "</div>"
      ],
      "text/plain": [
       "       Country         Region  Happiness Rank  Happiness Score  \\\n",
       "80    Pakistan  Southern Asia              81            5.194   \n",
       "238   Pakistan  Southern Asia              81            5.194   \n",
       "396   Pakistan  Southern Asia              81            5.194   \n",
       "554   Pakistan  Southern Asia              81            5.194   \n",
       "712   Pakistan  Southern Asia              81            5.194   \n",
       "870   Pakistan  Southern Asia              81            5.194   \n",
       "1028  Pakistan  Southern Asia              81            5.194   \n",
       "1186  Pakistan  Southern Asia              81            5.194   \n",
       "\n",
       "               variable    value  \n",
       "80       Standard Error  0.03726  \n",
       "238             Economy  0.59543  \n",
       "396              Family  0.41411  \n",
       "554              Health  0.51466  \n",
       "712             Freedom  0.12102  \n",
       "870               Trust  0.10464  \n",
       "1028         Generosity  0.33671  \n",
       "1186  Dystopia Residual  3.10709  "
      ]
     },
     "execution_count": 20,
     "metadata": {},
     "output_type": "execute_result"
    }
   ],
   "source": [
    "melt[melt[\"Country\"] == \"Pakistan\"]"
   ]
  },
  {
   "cell_type": "code",
   "execution_count": null,
   "id": "fff0032f",
   "metadata": {},
   "outputs": [],
   "source": []
  }
 ],
 "metadata": {
  "kernelspec": {
   "display_name": "Python 3 (ipykernel)",
   "language": "python",
   "name": "python3"
  },
  "language_info": {
   "codemirror_mode": {
    "name": "ipython",
    "version": 3
   },
   "file_extension": ".py",
   "mimetype": "text/x-python",
   "name": "python",
   "nbconvert_exporter": "python",
   "pygments_lexer": "ipython3",
   "version": "3.9.13"
  }
 },
 "nbformat": 4,
 "nbformat_minor": 5
}
