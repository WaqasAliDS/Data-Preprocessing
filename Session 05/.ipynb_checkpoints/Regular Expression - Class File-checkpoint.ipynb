{
 "cells": [
  {
   "cell_type": "markdown",
   "id": "970e8a88",
   "metadata": {},
   "source": [
    "That being said, making the investment to learn regular expressions is worthwhile.\n",
    "\n",
    "* You can write complex operations with string data much more quickly once you understand how they function, which will save you time. \n",
    "* Regular expressions can be applied more quickly than their manual counterparts.\n",
    "* Nearly all current programming languages, as well as places like databases and command-line tools, support regular expressions. Anywhere you work with data, you can use a powerful tool that you gain by understanding regular expressions.\n"
   ]
  },
  {
   "cell_type": "markdown",
   "id": "067d651b",
   "metadata": {},
   "source": [
    "Hacker News is a site started by the startup incubator Y Combinator, where user-submitted stories (known as \"stories\") are voted and commented upon, similar to reddit. Hacker News is extremely popular in technology and startup circles; stories that make it to the top of Hacker News' listings can get hundreds of thousands of visitors."
   ]
  },
  {
   "cell_type": "markdown",
   "id": "1692f65e",
   "metadata": {},
   "source": [
    "The dataset we will be working with is based off this CSV of Hacker News stories from September 2015 to September 2016. The columns in the dataset are explained below:\n",
    "\n",
    "* `id`: The unique identifier from Hacker News for the story\n",
    "* `title`: The title of the story\n",
    "* `url`: The URL that the stories links to, if the story has a URL\n",
    "* `num_points`: The number of points the story acquired, calculated as the total number of upvotes minus the total number of downvotes\n",
    "* `num_comments`: The number of comments that were made on the story\n",
    "* `author`: The username of the person who submitted the story\n",
    "* `created_at`: The date and time at which the story was submitted"
   ]
  },
  {
   "cell_type": "code",
   "execution_count": 1,
   "id": "122f3cc2",
   "metadata": {},
   "outputs": [],
   "source": [
    "import pandas as pd"
   ]
  },
  {
   "cell_type": "code",
   "execution_count": 2,
   "id": "5e03a622",
   "metadata": {},
   "outputs": [],
   "source": [
    "hn = pd.read_csv(\"hacker_news.csv\")"
   ]
  },
  {
   "cell_type": "code",
   "execution_count": 3,
   "id": "0fd8f7f0",
   "metadata": {},
   "outputs": [],
   "source": [
    "import re"
   ]
  },
  {
   "cell_type": "code",
   "execution_count": 4,
   "id": "24b9d7ea",
   "metadata": {},
   "outputs": [
    {
     "data": {
      "text/plain": [
       "<re.Match object; span=(12, 15), match='and'>"
      ]
     },
     "execution_count": 4,
     "metadata": {},
     "output_type": "execute_result"
    }
   ],
   "source": [
    "re.search(\"and\", \"I have two hands\")"
   ]
  },
  {
   "cell_type": "code",
   "execution_count": 5,
   "id": "d12b6426",
   "metadata": {},
   "outputs": [
    {
     "data": {
      "text/plain": [
       "'and'"
      ]
     },
     "execution_count": 5,
     "metadata": {},
     "output_type": "execute_result"
    }
   ],
   "source": [
    "\"I have two hands\"[12:15]"
   ]
  },
  {
   "cell_type": "code",
   "execution_count": 6,
   "id": "c4566dcd",
   "metadata": {},
   "outputs": [],
   "source": [
    "re.search(\"and\", \"antidote\")"
   ]
  },
  {
   "cell_type": "markdown",
   "id": "ed4facf8",
   "metadata": {},
   "source": [
    "<img src = \"set_1.svg\" width = \"100%\" />"
   ]
  },
  {
   "cell_type": "code",
   "execution_count": 11,
   "id": "504d806b",
   "metadata": {},
   "outputs": [
    {
     "data": {
      "text/plain": [
       "<re.Match object; span=(1, 5), match='send'>"
      ]
     },
     "execution_count": 11,
     "metadata": {},
     "output_type": "execute_result"
    }
   ],
   "source": [
    "pattern = \"[msb]end\" # mend, send, bend\n",
    "\n",
    "re.search(pattern, \"bsending\")"
   ]
  },
  {
   "cell_type": "markdown",
   "id": "f13aa138",
   "metadata": {},
   "source": [
    "The regular expression above will match the strings `mend`, `send`, and `bend`."
   ]
  },
  {
   "cell_type": "markdown",
   "id": "9dddbc97",
   "metadata": {},
   "source": [
    "<img src = \"set_2.svg\" width = \"60%\" />"
   ]
  },
  {
   "cell_type": "code",
   "execution_count": 14,
   "id": "4cc8b308",
   "metadata": {},
   "outputs": [
    {
     "data": {
      "text/plain": [
       "0                            Interactive Dynamic Video\n",
       "1    Florida DJs May Face Felony for April Fools' W...\n",
       "2         Technology ventures: From Idea to Enterprise\n",
       "3    Note by Note: The Making of Steinway L1037 (2007)\n",
       "4    Title II kills investment? Comcast and other I...\n",
       "Name: title, dtype: object"
      ]
     },
     "execution_count": 14,
     "metadata": {},
     "output_type": "execute_result"
    }
   ],
   "source": [
    "title = hn.title\n",
    "title.head()"
   ]
  },
  {
   "cell_type": "code",
   "execution_count": 16,
   "id": "1836e0d6",
   "metadata": {},
   "outputs": [
    {
     "data": {
      "text/plain": [
       "102                    From Python to Lua: Why We Switched\n",
       "103              Ubuntu 16.04 LTS to Ship Without Python 2\n",
       "144      Create a GUI Application Using Qt and Python i...\n",
       "196      How I Solved GCHQ's Xmas Card with Python and ...\n",
       "436      Unikernel Power Comes to Java, Node.js, Go, an...\n",
       "                               ...                        \n",
       "19597    David Beazley  Python Concurrency from the Gro...\n",
       "19852      Ask HN: How to automate Python apps deployment?\n",
       "19862                            Moving Away from Python 2\n",
       "19980                        Python vs. Julia Observations\n",
       "19998    Show HN: Decorating: Animated pulsed for your ...\n",
       "Name: title, Length: 160, dtype: object"
      ]
     },
     "execution_count": 16,
     "metadata": {},
     "output_type": "execute_result"
    }
   ],
   "source": [
    "pattern = \"[Pp]ython\"\n",
    "\n",
    "title[title.str.contains(pattern)]"
   ]
  },
  {
   "cell_type": "markdown",
   "id": "58d7a2ad",
   "metadata": {},
   "source": [
    "`1000` to `2999`"
   ]
  },
  {
   "cell_type": "code",
   "execution_count": 17,
   "id": "69783789",
   "metadata": {},
   "outputs": [
    {
     "data": {
      "text/plain": [
       "3        Note by Note: The Making of Steinway L1037 (2007)\n",
       "34                        The reverse job applicant (2010)\n",
       "50         Ask HN: Which framework for a CRUD app in 2016?\n",
       "59            2015 in review  1 year after I quit blogging\n",
       "80       Apple Watch Scooped Up Over Half the Smartwatc...\n",
       "                               ...                        \n",
       "20032    Things I Wont Work With: Dioxygen Difluoride (...\n",
       "20049    Study: US is an oligarchy, not a democracy (2014)\n",
       "20075    Tips from a Pro: An Introduction to Microscopi...\n",
       "20081                 Usenet, what have you become? (2012)\n",
       "20082    Colma, Calif., Is a Town of 2.2 Square Miles, ...\n",
       "Name: title, Length: 1143, dtype: object"
      ]
     },
     "execution_count": 17,
     "metadata": {},
     "output_type": "execute_result"
    }
   ],
   "source": [
    "pattern = \"[1-2][0-9][0-9][0-9]\"\n",
    "\n",
    "title[title.str.contains(pattern)]"
   ]
  },
  {
   "cell_type": "markdown",
   "id": "f0952d1e",
   "metadata": {},
   "source": [
    "<img src = \"quantifiers_numeric.svg\" width = \"80%\" />"
   ]
  },
  {
   "cell_type": "code",
   "execution_count": 19,
   "id": "76603910",
   "metadata": {},
   "outputs": [
    {
     "data": {
      "text/plain": [
       "3        Note by Note: The Making of Steinway L1037 (2007)\n",
       "34                        The reverse job applicant (2010)\n",
       "50         Ask HN: Which framework for a CRUD app in 2016?\n",
       "59            2015 in review  1 year after I quit blogging\n",
       "80       Apple Watch Scooped Up Over Half the Smartwatc...\n",
       "                               ...                        \n",
       "20032    Things I Wont Work With: Dioxygen Difluoride (...\n",
       "20049    Study: US is an oligarchy, not a democracy (2014)\n",
       "20075    Tips from a Pro: An Introduction to Microscopi...\n",
       "20081                 Usenet, what have you become? (2012)\n",
       "20082    Colma, Calif., Is a Town of 2.2 Square Miles, ...\n",
       "Name: title, Length: 1143, dtype: object"
      ]
     },
     "execution_count": 19,
     "metadata": {},
     "output_type": "execute_result"
    }
   ],
   "source": [
    "pattern = \"[1-2][0-9]{3}\"\n",
    "\n",
    "title[title.str.contains(pattern)]"
   ]
  },
  {
   "cell_type": "markdown",
   "id": "7abed633",
   "metadata": {},
   "source": [
    "<img src = \"quantifier_example.svg\" width = \"90%\" />"
   ]
  },
  {
   "cell_type": "markdown",
   "id": "2561df70",
   "metadata": {},
   "source": [
    "<img src = \"character_classes_1.svg\" width = \"70%\" />\n",
    "[Aa-Zz]\n",
    "<img src = \"character_classes_2.svg\" width = \"70%\" />"
   ]
  },
  {
   "cell_type": "code",
   "execution_count": 20,
   "id": "ff367d46",
   "metadata": {},
   "outputs": [
    {
     "name": "stdout",
     "output_type": "stream",
     "text": [
      "Danial \n",
      " Gauhar\n"
     ]
    }
   ],
   "source": [
    "print(\"Danial \\n Gauhar\")"
   ]
  },
  {
   "cell_type": "code",
   "execution_count": 21,
   "id": "a5400901",
   "metadata": {},
   "outputs": [
    {
     "data": {
      "text/plain": [
       "3        Note by Note: The Making of Steinway L1037 (2007)\n",
       "34                        The reverse job applicant (2010)\n",
       "50         Ask HN: Which framework for a CRUD app in 2016?\n",
       "59            2015 in review  1 year after I quit blogging\n",
       "80       Apple Watch Scooped Up Over Half the Smartwatc...\n",
       "                               ...                        \n",
       "20032    Things I Wont Work With: Dioxygen Difluoride (...\n",
       "20049    Study: US is an oligarchy, not a democracy (2014)\n",
       "20075    Tips from a Pro: An Introduction to Microscopi...\n",
       "20081                 Usenet, what have you become? (2012)\n",
       "20082    Colma, Calif., Is a Town of 2.2 Square Miles, ...\n",
       "Name: title, Length: 1143, dtype: object"
      ]
     },
     "execution_count": 21,
     "metadata": {},
     "output_type": "execute_result"
    }
   ],
   "source": [
    "pattern = \"[1-2]\\d{3}\"\n",
    "\n",
    "title[title.str.contains(pattern)]"
   ]
  },
  {
   "cell_type": "markdown",
   "id": "82258d3a",
   "metadata": {},
   "source": [
    "`email` or `e-mail`"
   ]
  },
  {
   "cell_type": "code",
   "execution_count": 22,
   "id": "36fe0efb",
   "metadata": {},
   "outputs": [
    {
     "data": {
      "text/plain": [
       "119      Show HN: Send an email from your shell to your...\n",
       "313          Disposable emails for safe spam free shopping\n",
       "1361     Ask HN: Doing cold emails? helps us prove this...\n",
       "1750     Protect yourself from spam, bots and phishing ...\n",
       "2421                    Ashley Madison hack treating email\n",
       "                               ...                        \n",
       "18098    House panel looking into Reddit post about Cli...\n",
       "18583    Mailgen  Generates clean, responsive HTML for ...\n",
       "18847    Show HN: Crisp iOS keyboard for email and text...\n",
       "19303    Ask HN: Why big email providers don't sign the...\n",
       "19446    Tell HN: Secure email provider Riseup will run...\n",
       "Name: title, Length: 86, dtype: object"
      ]
     },
     "execution_count": 22,
     "metadata": {},
     "output_type": "execute_result"
    }
   ],
   "source": [
    "pattern = \"e-{0,1}mail\" # email, e-mail\n",
    "\n",
    "title[title.str.contains(pattern)]"
   ]
  },
  {
   "cell_type": "code",
   "execution_count": 25,
   "id": "37295ccd",
   "metadata": {},
   "outputs": [
    {
     "data": {
      "text/plain": [
       "email     81\n",
       "e-mail     5\n",
       "dtype: int64"
      ]
     },
     "execution_count": 25,
     "metadata": {},
     "output_type": "execute_result"
    }
   ],
   "source": [
    "pattern = \"(e-{0,1}mail)\" # email, e-mail\n",
    "\n",
    "title.str.extract(pattern).value_counts()"
   ]
  },
  {
   "cell_type": "code",
   "execution_count": 26,
   "id": "7cda851f",
   "metadata": {},
   "outputs": [
    {
     "data": {
      "text/plain": [
       "mail    86\n",
       "dtype: int64"
      ]
     },
     "execution_count": 26,
     "metadata": {},
     "output_type": "execute_result"
    }
   ],
   "source": [
    "pattern = \"e-{0,1}(mail)\" # email, e-mail\n",
    "\n",
    "title.str.extract(pattern).value_counts()"
   ]
  },
  {
   "cell_type": "code",
   "execution_count": 28,
   "id": "0cb6b53b",
   "metadata": {},
   "outputs": [
    {
     "data": {
      "text/plain": [
       "mail    86\n",
       "dtype: int64"
      ]
     },
     "execution_count": 28,
     "metadata": {},
     "output_type": "execute_result"
    }
   ],
   "source": [
    "pattern = \"e-{0,1}(mail)\" # email, e-mail\n",
    "\n",
    "title.str.extract(pattern).value_counts()"
   ]
  },
  {
   "cell_type": "markdown",
   "id": "b58c04b2",
   "metadata": {},
   "source": [
    "## Single Characters Qunatifers\n",
    "\n",
    "<img src = \"quantifiers_other.svg\" width = \"70%\" />"
   ]
  },
  {
   "cell_type": "markdown",
   "id": "0510cc51",
   "metadata": {},
   "source": [
    "`email` or `e-mail`"
   ]
  },
  {
   "cell_type": "code",
   "execution_count": null,
   "id": "ae637f23",
   "metadata": {},
   "outputs": [],
   "source": [
    "pattern = \"(e-?mail)\" # email, e-mail\n",
    "\n",
    "title.str.extract(pattern).value_counts()"
   ]
  },
  {
   "cell_type": "markdown",
   "id": "966c0360",
   "metadata": {},
   "source": [
    "`[pdf]`, `[video]`, `[png]`, `[8]`, `[danial]`"
   ]
  },
  {
   "cell_type": "code",
   "execution_count": 29,
   "id": "4ce7bf4c",
   "metadata": {},
   "outputs": [
    {
     "data": {
      "text/plain": [
       "66       Analysis of 114 propaganda sources from ISIS, ...\n",
       "159           File indexing and searching for Plan 9 [pdf]\n",
       "162      Attack on Kunduz Trauma Centre, Afghanistan  I...\n",
       "445      New Directions in Cryptography by Diffie and H...\n",
       "511      Office of Inspector General's Audit of the Off...\n",
       "                               ...                        \n",
       "19549                IMP: Indirect Memory Prefetcher [pdf]\n",
       "19763    TSA can now force you to go through body scann...\n",
       "19947                                Swift Reversing [pdf]\n",
       "19979    WSJ/Dowjones Announce Unauthorized Access Betw...\n",
       "20089    Users Really Do Plug in USB Drives They Find [...\n",
       "Name: title, Length: 276, dtype: object"
      ]
     },
     "execution_count": 29,
     "metadata": {},
     "output_type": "execute_result"
    }
   ],
   "source": [
    "pattern = \"\\[pdf\\]\"\n",
    "\n",
    "title[title.str.contains(pattern)]"
   ]
  },
  {
   "cell_type": "code",
   "execution_count": 32,
   "id": "cd74c606",
   "metadata": {},
   "outputs": [
    {
     "data": {
      "text/plain": [
       "[pdf]            276\n",
       "[video]          111\n",
       "[2015]             3\n",
       "[audio]            3\n",
       "[2014]             2\n",
       "[beta]             2\n",
       "[slides]           2\n",
       "[1996]             1\n",
       "[map]              1\n",
       "[ask]              1\n",
       "[blank]            1\n",
       "[coffee]           1\n",
       "[comic]            1\n",
       "[crash]            1\n",
       "[detainee]         1\n",
       "[gif]              1\n",
       "[png]              1\n",
       "[much]             1\n",
       "[Ubuntu]           1\n",
       "[repost]           1\n",
       "[satire]           1\n",
       "[song]             1\n",
       "[survey]           1\n",
       "[transcript]       1\n",
       "[updated]          1\n",
       "[videos]           1\n",
       "[Videos]           1\n",
       "[USA]              1\n",
       "[2008]             1\n",
       "[SpaceX]           1\n",
       "[5]                1\n",
       "[ANNOUNCE]         1\n",
       "[Australian]       1\n",
       "[Benchmark]        1\n",
       "[Beta]             1\n",
       "[CSS]              1\n",
       "[Challenge]        1\n",
       "[Excerpt]          1\n",
       "[GOST]             1\n",
       "[German]           1\n",
       "[HBR]              1\n",
       "[Infograph]        1\n",
       "[JavaScript]       1\n",
       "[Live]             1\n",
       "[Map]              1\n",
       "[NSFW]             1\n",
       "[Petition]         1\n",
       "[Python]           1\n",
       "[React]            1\n",
       "[SPA]              1\n",
       "[Skinnywhale]      1\n",
       "[viz]              1\n",
       "dtype: int64"
      ]
     },
     "execution_count": 32,
     "metadata": {},
     "output_type": "execute_result"
    }
   ],
   "source": [
    "pattern = \"(\\[\\w+\\])\"\n",
    "\n",
    "title.str.extract(pattern).value_counts()"
   ]
  },
  {
   "cell_type": "code",
   "execution_count": 33,
   "id": "c3d73ff0",
   "metadata": {},
   "outputs": [
    {
     "data": {
      "text/plain": [
       "pdf            276\n",
       "video          111\n",
       "2015             3\n",
       "audio            3\n",
       "2014             2\n",
       "beta             2\n",
       "slides           2\n",
       "1996             1\n",
       "map              1\n",
       "ask              1\n",
       "blank            1\n",
       "coffee           1\n",
       "comic            1\n",
       "crash            1\n",
       "detainee         1\n",
       "gif              1\n",
       "png              1\n",
       "much             1\n",
       "Ubuntu           1\n",
       "repost           1\n",
       "satire           1\n",
       "song             1\n",
       "survey           1\n",
       "transcript       1\n",
       "updated          1\n",
       "videos           1\n",
       "Videos           1\n",
       "USA              1\n",
       "2008             1\n",
       "SpaceX           1\n",
       "5                1\n",
       "ANNOUNCE         1\n",
       "Australian       1\n",
       "Benchmark        1\n",
       "Beta             1\n",
       "CSS              1\n",
       "Challenge        1\n",
       "Excerpt          1\n",
       "GOST             1\n",
       "German           1\n",
       "HBR              1\n",
       "Infograph        1\n",
       "JavaScript       1\n",
       "Live             1\n",
       "Map              1\n",
       "NSFW             1\n",
       "Petition         1\n",
       "Python           1\n",
       "React            1\n",
       "SPA              1\n",
       "Skinnywhale      1\n",
       "viz              1\n",
       "dtype: int64"
      ]
     },
     "execution_count": 33,
     "metadata": {},
     "output_type": "execute_result"
    }
   ],
   "source": [
    "pattern = \"\\[(\\w+)\\]\"\n",
    "\n",
    "title.str.extract(pattern).value_counts()"
   ]
  },
  {
   "cell_type": "markdown",
   "id": "438e8d65",
   "metadata": {},
   "source": [
    "`[pdf]`, `[video]`, `[png]`, `[8]`, `[danial]`, `[@khan]`"
   ]
  },
  {
   "cell_type": "code",
   "execution_count": null,
   "id": "1492be28",
   "metadata": {},
   "outputs": [],
   "source": [
    "# home work \n",
    "# check this pattern"
   ]
  },
  {
   "cell_type": "markdown",
   "id": "a18540f3",
   "metadata": {},
   "source": [
    "### `Accessing the Matching Text with Capture Groups`"
   ]
  },
  {
   "cell_type": "code",
   "execution_count": 34,
   "id": "8de84f25",
   "metadata": {},
   "outputs": [
    {
     "data": {
      "text/plain": [
       "pdf            276\n",
       "video          111\n",
       "2015             3\n",
       "audio            3\n",
       "2014             2\n",
       "beta             2\n",
       "slides           2\n",
       "1996             1\n",
       "map              1\n",
       "ask              1\n",
       "blank            1\n",
       "coffee           1\n",
       "comic            1\n",
       "crash            1\n",
       "detainee         1\n",
       "gif              1\n",
       "png              1\n",
       "much             1\n",
       "Ubuntu           1\n",
       "repost           1\n",
       "satire           1\n",
       "song             1\n",
       "survey           1\n",
       "transcript       1\n",
       "updated          1\n",
       "videos           1\n",
       "Videos           1\n",
       "USA              1\n",
       "2008             1\n",
       "SpaceX           1\n",
       "5                1\n",
       "ANNOUNCE         1\n",
       "Australian       1\n",
       "Benchmark        1\n",
       "Beta             1\n",
       "CSS              1\n",
       "Challenge        1\n",
       "Excerpt          1\n",
       "GOST             1\n",
       "German           1\n",
       "HBR              1\n",
       "Infograph        1\n",
       "JavaScript       1\n",
       "Live             1\n",
       "Map              1\n",
       "NSFW             1\n",
       "Petition         1\n",
       "Python           1\n",
       "React            1\n",
       "SPA              1\n",
       "Skinnywhale      1\n",
       "viz              1\n",
       "dtype: int64"
      ]
     },
     "execution_count": 34,
     "metadata": {},
     "output_type": "execute_result"
    }
   ],
   "source": [
    "pattern = \"\\[(\\w+)\\]\"\n",
    "\n",
    "title.str.extract(pattern).value_counts()"
   ]
  },
  {
   "cell_type": "markdown",
   "id": "4a842a00",
   "metadata": {},
   "source": [
    "### `Negative Character Classes`\n",
    "\n",
    "<img src = \"negative_character_classes.svg\" width = \"70%\" />"
   ]
  },
  {
   "cell_type": "code",
   "execution_count": null,
   "id": "cb68b5d5",
   "metadata": {},
   "outputs": [],
   "source": [
    "\"javascript\"\n",
    "\"java\"\n",
    "\n",
    "pattern = \"[Jj]ava[^Ss]\""
   ]
  },
  {
   "cell_type": "code",
   "execution_count": 42,
   "id": "20806459",
   "metadata": {},
   "outputs": [],
   "source": [
    "a = \"I am Learning JavaScript\"\n",
    "b = \"I am Learning Javapython\"\n",
    "c = \"Java is my fav\"\n",
    "d = \"I am Learning Javaspython\"\n",
    "\n",
    "pattern = \"[Jj]ava[^Ss]\"\n",
    "\n",
    "re.search(pattern,d)"
   ]
  },
  {
   "cell_type": "markdown",
   "id": "9c8ebe39",
   "metadata": {},
   "source": [
    "### `Word Boundaries`"
   ]
  },
  {
   "cell_type": "code",
   "execution_count": 43,
   "id": "c9bd7520",
   "metadata": {},
   "outputs": [
    {
     "name": "stdout",
     "output_type": "stream",
     "text": [
      "hello\b\n"
     ]
    }
   ],
   "source": [
    "print(\"hello\\b\")"
   ]
  },
  {
   "cell_type": "code",
   "execution_count": 44,
   "id": "51628765",
   "metadata": {},
   "outputs": [
    {
     "name": "stdout",
     "output_type": "stream",
     "text": [
      "\bhello\b\n"
     ]
    }
   ],
   "source": [
    "print(\"\\bhello\\b\")"
   ]
  },
  {
   "cell_type": "code",
   "execution_count": 45,
   "id": "740c3981",
   "metadata": {},
   "outputs": [
    {
     "name": "stdout",
     "output_type": "stream",
     "text": [
      "\\bhello\\b\n"
     ]
    }
   ],
   "source": [
    "print(\"\\\\bhello\\\\b\")"
   ]
  },
  {
   "cell_type": "code",
   "execution_count": 48,
   "id": "799cbfb1",
   "metadata": {},
   "outputs": [
    {
     "data": {
      "text/plain": [
       "<re.Match object; span=(0, 4), match='Java'>"
      ]
     },
     "execution_count": 48,
     "metadata": {},
     "output_type": "execute_result"
    }
   ],
   "source": [
    "a = \"I am Learning JavaScript\"\n",
    "b = \"I am Learning Javapython\"\n",
    "c = \"Java is my fav\"\n",
    "d = \"I am Learning Java\"\n",
    "\n",
    "pattern = \"\\\\b[Jj]ava\\\\b\"\n",
    "\n",
    "re.search(pattern,c)"
   ]
  },
  {
   "cell_type": "code",
   "execution_count": 56,
   "id": "0fd3a29b",
   "metadata": {},
   "outputs": [
    {
     "data": {
      "text/plain": [
       "<re.Match object; span=(14, 15), match='C'>"
      ]
     },
     "execution_count": 56,
     "metadata": {},
     "output_type": "execute_result"
    }
   ],
   "source": [
    "a = \"I am Learning C\"\n",
    "b = \"I am Learning C$\"\n",
    "c = \"Java is my fav\"\n",
    "d = \"I am Learning Java\"\n",
    "\n",
    "pattern = \"\\\\b[Cc]\\\\b\"\n",
    "\n",
    "re.search(pattern,b)"
   ]
  },
  {
   "cell_type": "markdown",
   "id": "72542f69",
   "metadata": {},
   "source": [
    "### `Matching at the Start and End of Strings`\n",
    "\n",
    "<img src = \"positional_anchors.svg\" width = \"70%\" />"
   ]
  },
  {
   "cell_type": "code",
   "execution_count": 60,
   "id": "2a66af76",
   "metadata": {},
   "outputs": [
    {
     "data": {
      "text/plain": [
       "195                 [Beta] Speedtest.net  HTML5 Speed Test\n",
       "398         [video] Google Self-Driving SUV Sideswipes Bus\n",
       "3136                           [CSS] Yellow Fade Technique\n",
       "5054     [React] proptypes-parser: Define React PropTyp...\n",
       "9389     [Petition] Tell Microsoft to stop making browsers\n",
       "10960      [pdf] Ninth Circuit Decision on AT&T Throttling\n",
       "11356    [video] a new tool to make your workflow as a ...\n",
       "12323                [Map] Watch as the US grows over time\n",
       "12374    [JavaScript] to promise or to callback? This i...\n",
       "13385                [video] Introducing Apple File System\n",
       "14397    [video] Boston Dynamics Atlas robot video comm...\n",
       "16747    [ask] Why you should borrow me your spare comp...\n",
       "19035    [2015] How one man earns $1M a year teaching w...\n",
       "19482       [Challenge] Sorting algorithm with constraints\n",
       "19583    [Ubuntu]if you do this sudo chmod 777 -R /etc,...\n",
       "Name: title, dtype: object"
      ]
     },
     "execution_count": 60,
     "metadata": {},
     "output_type": "execute_result"
    }
   ],
   "source": [
    "pattern = \"^\\[\\w+\\]\"\n",
    "\n",
    "title[title.str.contains(pattern)]"
   ]
  },
  {
   "cell_type": "code",
   "execution_count": 61,
   "id": "60769b33",
   "metadata": {},
   "outputs": [
    {
     "data": {
      "text/plain": [
       "66       Analysis of 114 propaganda sources from ISIS, ...\n",
       "100      Munich Gunman Got Weapon from the Darknet [Ger...\n",
       "159           File indexing and searching for Plan 9 [pdf]\n",
       "162      Attack on Kunduz Trauma Centre, Afghanistan  I...\n",
       "210      A plan to rescue western democracy from the ig...\n",
       "                               ...                        \n",
       "19763    TSA can now force you to go through body scann...\n",
       "19867                       Using Pony for Fintech [video]\n",
       "19947                                Swift Reversing [pdf]\n",
       "19979    WSJ/Dowjones Announce Unauthorized Access Betw...\n",
       "20089    Users Really Do Plug in USB Drives They Find [...\n",
       "Name: title, Length: 417, dtype: object"
      ]
     },
     "execution_count": 61,
     "metadata": {},
     "output_type": "execute_result"
    }
   ],
   "source": [
    "pattern = \"\\[\\w+\\]$\"\n",
    "\n",
    "title[title.str.contains(pattern)]"
   ]
  },
  {
   "cell_type": "markdown",
   "id": "4274efc7",
   "metadata": {},
   "source": [
    "`email` ,`Email`, `e Mail`, `e mail`, `E-mail`, `e-mail`, `eMail`, `E-Mail`, `EMAIL`, `emails`, `Emails`, `E-MailS`"
   ]
  },
  {
   "cell_type": "code",
   "execution_count": 63,
   "id": "bc147df3",
   "metadata": {},
   "outputs": [
    {
     "data": {
      "text/plain": [
       "email      57\n",
       "Email      42\n",
       "emails     18\n",
       "Emails     15\n",
       "e Mail      5\n",
       "e-mail      5\n",
       "e mail      4\n",
       "E-mails     2\n",
       "E-Mail      1\n",
       "EMAIL       1\n",
       "eMail       1\n",
       "dtype: int64"
      ]
     },
     "execution_count": 63,
     "metadata": {},
     "output_type": "execute_result"
    }
   ],
   "source": [
    "pattern = \"(e[\\s-]?mails?)\"\n",
    "\n",
    "title.str.extract(pattern, flags = re.I).value_counts()"
   ]
  },
  {
   "cell_type": "code",
   "execution_count": 64,
   "id": "be0f5b67",
   "metadata": {},
   "outputs": [
    {
     "name": "stderr",
     "output_type": "stream",
     "text": [
      "C:\\Users\\techm\\AppData\\Local\\Temp\\ipykernel_15152\\1207892783.py:1: FutureWarning: The default value of regex will change from True to False in a future version.\n",
      "  title = title.str.replace(\"(e[\\s-]?mails?)\",\"email\", flags = re.I)\n"
     ]
    }
   ],
   "source": [
    "title = title.str.replace(\"(e[\\s-]?mails?)\",\"email\", flags = re.I)"
   ]
  },
  {
   "cell_type": "code",
   "execution_count": 65,
   "id": "bb051550",
   "metadata": {},
   "outputs": [
    {
     "data": {
      "text/plain": [
       "email    151\n",
       "dtype: int64"
      ]
     },
     "execution_count": 65,
     "metadata": {},
     "output_type": "execute_result"
    }
   ],
   "source": [
    "pattern = \"(e[\\s-]?mails?)\"\n",
    "\n",
    "title.str.extract(pattern, flags = re.I).value_counts()"
   ]
  },
  {
   "cell_type": "markdown",
   "id": "45338eaf",
   "metadata": {},
   "source": [
    "`mysql`, `PostgreSQL`, `SQL` "
   ]
  },
  {
   "cell_type": "code",
   "execution_count": null,
   "id": "a421c02e",
   "metadata": {},
   "outputs": [],
   "source": [
    "# task"
   ]
  },
  {
   "cell_type": "code",
   "execution_count": null,
   "id": "53da67f4",
   "metadata": {},
   "outputs": [],
   "source": []
  },
  {
   "cell_type": "markdown",
   "id": "b84aa40f",
   "metadata": {},
   "source": [
    "`Counting Mentions of the 'C' Language`"
   ]
  },
  {
   "cell_type": "code",
   "execution_count": 67,
   "id": "34f3deb5",
   "metadata": {},
   "outputs": [
    {
     "data": {
      "text/plain": [
       "365                       The new C standards are worth it\n",
       "444            Moz raises $10m Series C from Foundry Group\n",
       "521           Fuchsia: Micro kernel written in C by Google\n",
       "1307             Show HN: Yupp, yet another C preprocessor\n",
       "1326                      The C standard formalized in Coq\n",
       "                               ...                        \n",
       "18543                 C-style for loops removed from Swift\n",
       "18549            Show HN: An awesome C library for Windows\n",
       "18649                 Python vs. C/C++ in embedded systems\n",
       "19151                      Ask HN: How to learn C in 2016?\n",
       "19933    Lightweight C library to parse NMEA 0183 sente...\n",
       "Name: title, Length: 84, dtype: object"
      ]
     },
     "execution_count": 67,
     "metadata": {},
     "output_type": "execute_result"
    }
   ],
   "source": [
    "pattern = r\"\\b[Cc]\\b[^\\.+]\"\n",
    "\n",
    "title[title.str.contains(pattern)]"
   ]
  },
  {
   "cell_type": "code",
   "execution_count": 68,
   "id": "1b380b78",
   "metadata": {},
   "outputs": [
    {
     "data": {
      "text/plain": [
       "365                       The new C standards are worth it\n",
       "521           Fuchsia: Micro kernel written in C by Google\n",
       "1307             Show HN: Yupp, yet another C preprocessor\n",
       "1326                      The C standard formalized in Coq\n",
       "1365                           GNU C Library 2.23 released\n",
       "                               ...                        \n",
       "18479    Tis-interpreter detects subtle bugs in C programs\n",
       "18549            Show HN: An awesome C library for Windows\n",
       "18649                 Python vs. C/C++ in embedded systems\n",
       "19151                      Ask HN: How to learn C in 2016?\n",
       "19933    Lightweight C library to parse NMEA 0183 sente...\n",
       "Name: title, Length: 65, dtype: object"
      ]
     },
     "execution_count": 68,
     "metadata": {},
     "output_type": "execute_result"
    }
   ],
   "source": [
    "pattern = r\"[^Ss]\\s\\b[Cc]\\b[^\\.+]\"\n",
    "\n",
    "title[title.str.contains(pattern)]"
   ]
  },
  {
   "cell_type": "markdown",
   "id": "998c1eb2",
   "metadata": {},
   "source": [
    "# `Lookarounds`\n",
    "\n",
    "<img src = \"lookarounds.svg\" width = \"70%\" />"
   ]
  },
  {
   "cell_type": "code",
   "execution_count": 71,
   "id": "58ac0ce2",
   "metadata": {},
   "outputs": [
    {
     "data": {
      "text/plain": [
       "365                       The new C standards are worth it\n",
       "521           Fuchsia: Micro kernel written in C by Google\n",
       "1307             Show HN: Yupp, yet another C preprocessor\n",
       "1326                      The C standard formalized in Coq\n",
       "1365                           GNU C Library 2.23 released\n",
       "                               ...                        \n",
       "18543                 C-style for loops removed from Swift\n",
       "18549            Show HN: An awesome C library for Windows\n",
       "18649                 Python vs. C/C++ in embedded systems\n",
       "19151                      Ask HN: How to learn C in 2016?\n",
       "19933    Lightweight C library to parse NMEA 0183 sente...\n",
       "Name: title, Length: 102, dtype: object"
      ]
     },
     "execution_count": 71,
     "metadata": {},
     "output_type": "execute_result"
    }
   ],
   "source": [
    "pattern = r\"(?<!Series\\s)\\b[Cc]\\b(?![\\.+])\"\n",
    "\n",
    "title[title.str.contains(pattern)]"
   ]
  },
  {
   "cell_type": "code",
   "execution_count": 72,
   "id": "c572e203",
   "metadata": {},
   "outputs": [
    {
     "data": {
      "text/plain": [
       "C    99\n",
       "c     3\n",
       "dtype: int64"
      ]
     },
     "execution_count": 72,
     "metadata": {},
     "output_type": "execute_result"
    }
   ],
   "source": [
    "pattern = r\"((?<!Series\\s)\\b[Cc]\\b(?![\\.+]))\"\n",
    "\n",
    "title.str.extract(pattern).value_counts()"
   ]
  },
  {
   "cell_type": "markdown",
   "id": "9ac4d438",
   "metadata": {},
   "source": [
    "`BackReferences Using Capture Groups`"
   ]
  },
  {
   "cell_type": "code",
   "execution_count": 73,
   "id": "f120171d",
   "metadata": {},
   "outputs": [
    {
     "name": "stderr",
     "output_type": "stream",
     "text": [
      "C:\\Users\\techm\\AppData\\Local\\Temp\\ipykernel_15152\\882484711.py:6: UserWarning: This pattern is interpreted as a regular expression, and has match groups. To actually get the groups, use str.extract.\n",
      "  title[title.str.contains(pattern)]\n"
     ]
    },
    {
     "data": {
      "text/plain": [
       "3102                  Silicon Valley Has a Problem Problem\n",
       "3176                Wire Wire: A West African Cyber Threat\n",
       "3178                         Flexbox Cheatsheet Cheatsheet\n",
       "4797                            The Mindset Mindset (2015)\n",
       "7276     Valentine's Day Special: Bye Bye Tinder, Flirt...\n",
       "10371    Mcdonalds copying cyriak  cows cows cows in th...\n",
       "11575                                    Bang Bang Control\n",
       "11901          Cordless Telephones: Bye Bye Privacy (1991)\n",
       "12697          Solving the the Monty-Hall-Problem in Swift\n",
       "15049    Bye Bye Webrtc2SIP: WebRTC with Asterisk and A...\n",
       "15839          Intellij-Rust Rust Plugin for IntelliJ IDEA\n",
       "Name: title, dtype: object"
      ]
     },
     "execution_count": 73,
     "metadata": {},
     "output_type": "execute_result"
    }
   ],
   "source": [
    "\"Bye Bye\"\n",
    "\"Women Women\"\n",
    "\n",
    "pattern = r\"\\b(\\w+)\\s\\1\\b\"\n",
    "\n",
    "title[title.str.contains(pattern)]"
   ]
  },
  {
   "cell_type": "code",
   "execution_count": 74,
   "id": "741a0397",
   "metadata": {},
   "outputs": [
    {
     "name": "stderr",
     "output_type": "stream",
     "text": [
      "C:\\Users\\techm\\AppData\\Local\\Temp\\ipykernel_15152\\1302726270.py:6: UserWarning: This pattern is interpreted as a regular expression, and has match groups. To actually get the groups, use str.extract.\n",
      "  title[title.str.contains(pattern)]\n"
     ]
    },
    {
     "data": {
      "text/plain": [
       "10371    Mcdonalds copying cyriak  cows cows cows in th...\n",
       "Name: title, dtype: object"
      ]
     },
     "execution_count": 74,
     "metadata": {},
     "output_type": "execute_result"
    }
   ],
   "source": [
    "\"Bye Bye\"\n",
    "\"Women Women\"\n",
    "\n",
    "pattern = r\"\\b(\\w+)\\s\\1\\s\\1\\b\"\n",
    "\n",
    "title[title.str.contains(pattern)]"
   ]
  },
  {
   "cell_type": "code",
   "execution_count": 76,
   "id": "0ee318de",
   "metadata": {},
   "outputs": [
    {
     "data": {
      "text/plain": [
       "<re.Match object; span=(0, 21), match='Problem OK OK Problem'>"
      ]
     },
     "execution_count": 76,
     "metadata": {},
     "output_type": "execute_result"
    }
   ],
   "source": [
    "string = \"Problem OK OK Problem\"\n",
    "\n",
    "pattern = r\"\\b(\\w+)\\s(\\w+)\\s\\2\\s\\1\\b\"\n",
    "\n",
    "re.search(pattern,string)"
   ]
  },
  {
   "cell_type": "code",
   "execution_count": 78,
   "id": "638873bb",
   "metadata": {},
   "outputs": [
    {
     "data": {
      "text/plain": [
       "0                  http://www.interactivedynamicvideo.com/\n",
       "1        http://www.thewire.com/entertainment/2013/04/f...\n",
       "2        https://www.amazon.com/Technology-Ventures-Ent...\n",
       "3        http://www.nytimes.com/2007/11/07/movies/07ste...\n",
       "4        http://arstechnica.com/business/2015/10/comcas...\n",
       "                               ...                        \n",
       "20094    https://puri.sm/philosophy/how-purism-avoids-i...\n",
       "20095    https://medium.com/@zreitano/the-yc-applicatio...\n",
       "20096    http://blog.darknedgy.net/technology/2016/01/0...\n",
       "20097    https://medium.com/@benjiwheeler/how-product-h...\n",
       "20098                https://github.com/jmcarp/robobrowser\n",
       "Name: url, Length: 20099, dtype: object"
      ]
     },
     "execution_count": 78,
     "metadata": {},
     "output_type": "execute_result"
    }
   ],
   "source": [
    "hn[\"url\"]"
   ]
  },
  {
   "cell_type": "code",
   "execution_count": 80,
   "id": "caf94258",
   "metadata": {},
   "outputs": [
    {
     "data": {
      "text/html": [
       "<div>\n",
       "<style scoped>\n",
       "    .dataframe tbody tr th:only-of-type {\n",
       "        vertical-align: middle;\n",
       "    }\n",
       "\n",
       "    .dataframe tbody tr th {\n",
       "        vertical-align: top;\n",
       "    }\n",
       "\n",
       "    .dataframe thead th {\n",
       "        text-align: right;\n",
       "    }\n",
       "</style>\n",
       "<table border=\"1\" class=\"dataframe\">\n",
       "  <thead>\n",
       "    <tr style=\"text-align: right;\">\n",
       "      <th></th>\n",
       "      <th>Name</th>\n",
       "    </tr>\n",
       "  </thead>\n",
       "  <tbody>\n",
       "    <tr>\n",
       "      <th>0</th>\n",
       "      <td>NaN</td>\n",
       "    </tr>\n",
       "    <tr>\n",
       "      <th>1</th>\n",
       "      <td>NaN</td>\n",
       "    </tr>\n",
       "    <tr>\n",
       "      <th>2</th>\n",
       "      <td>NaN</td>\n",
       "    </tr>\n",
       "    <tr>\n",
       "      <th>3</th>\n",
       "      <td>NaN</td>\n",
       "    </tr>\n",
       "    <tr>\n",
       "      <th>4</th>\n",
       "      <td>NaN</td>\n",
       "    </tr>\n",
       "    <tr>\n",
       "      <th>...</th>\n",
       "      <td>...</td>\n",
       "    </tr>\n",
       "    <tr>\n",
       "      <th>20094</th>\n",
       "      <td>NaN</td>\n",
       "    </tr>\n",
       "    <tr>\n",
       "      <th>20095</th>\n",
       "      <td>NaN</td>\n",
       "    </tr>\n",
       "    <tr>\n",
       "      <th>20096</th>\n",
       "      <td>NaN</td>\n",
       "    </tr>\n",
       "    <tr>\n",
       "      <th>20097</th>\n",
       "      <td>NaN</td>\n",
       "    </tr>\n",
       "    <tr>\n",
       "      <th>20098</th>\n",
       "      <td>NaN</td>\n",
       "    </tr>\n",
       "  </tbody>\n",
       "</table>\n",
       "<p>20099 rows × 1 columns</p>\n",
       "</div>"
      ],
      "text/plain": [
       "      Name\n",
       "0      NaN\n",
       "1      NaN\n",
       "2      NaN\n",
       "3      NaN\n",
       "4      NaN\n",
       "...    ...\n",
       "20094  NaN\n",
       "20095  NaN\n",
       "20096  NaN\n",
       "20097  NaN\n",
       "20098  NaN\n",
       "\n",
       "[20099 rows x 1 columns]"
      ]
     },
     "execution_count": 80,
     "metadata": {},
     "output_type": "execute_result"
    }
   ],
   "source": [
    "pattern = \"\\[(?P<Name>\\w+)\\]\"\n",
    "\n",
    "title.str.extract(pattern)"
   ]
  },
  {
   "cell_type": "code",
   "execution_count": null,
   "id": "c8c3588f",
   "metadata": {},
   "outputs": [],
   "source": []
  }
 ],
 "metadata": {
  "kernelspec": {
   "display_name": "Python 3 (ipykernel)",
   "language": "python",
   "name": "python3"
  },
  "language_info": {
   "codemirror_mode": {
    "name": "ipython",
    "version": 3
   },
   "file_extension": ".py",
   "mimetype": "text/x-python",
   "name": "python",
   "nbconvert_exporter": "python",
   "pygments_lexer": "ipython3",
   "version": "3.9.13"
  }
 },
 "nbformat": 4,
 "nbformat_minor": 5
}
