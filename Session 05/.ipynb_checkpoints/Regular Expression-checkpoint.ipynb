{
 "cells": [
  {
   "cell_type": "markdown",
   "id": "970e8a88",
   "metadata": {},
   "source": [
    "That being said, making the investment to learn regular expressions is worthwhile.\n",
    "\n",
    "* You can write complex operations with string data much more quickly once you understand how they function, which will save you time. \n",
    "* Regular expressions can be applied more quickly than their manual counterparts.\n",
    "* Nearly all current programming languages, as well as places like databases and command-line tools, support regular expressions. Anywhere you work with data, you can use a powerful tool that you gain by understanding regular expressions.\n"
   ]
  },
  {
   "cell_type": "markdown",
   "id": "067d651b",
   "metadata": {},
   "source": [
    "Hacker News is a site started by the startup incubator Y Combinator, where user-submitted stories (known as \"stories\") are voted and commented upon, similar to reddit. Hacker News is extremely popular in technology and startup circles; stories that make it to the top of Hacker News' listings can get hundreds of thousands of visitors."
   ]
  },
  {
   "cell_type": "markdown",
   "id": "1692f65e",
   "metadata": {},
   "source": [
    "The dataset we will be working with is based off this CSV of Hacker News stories from September 2015 to September 2016. The columns in the dataset are explained below:\n",
    "\n",
    "* `id`: The unique identifier from Hacker News for the story\n",
    "* `title`: The title of the story\n",
    "* `url`: The URL that the stories links to, if the story has a URL\n",
    "* `num_points`: The number of points the story acquired, calculated as the total number of upvotes minus the total number of downvotes\n",
    "* `num_comments`: The number of comments that were made on the story\n",
    "* `author`: The username of the person who submitted the story\n",
    "* `created_at`: The date and time at which the story was submitted"
   ]
  },
  {
   "cell_type": "code",
   "execution_count": 1,
   "id": "122f3cc2",
   "metadata": {},
   "outputs": [],
   "source": [
    "import pandas as pd"
   ]
  },
  {
   "cell_type": "code",
   "execution_count": 2,
   "id": "5e03a622",
   "metadata": {},
   "outputs": [],
   "source": [
    "hn = pd.read_csv(\"hacker_news.csv\")"
   ]
  },
  {
   "cell_type": "code",
   "execution_count": 3,
   "id": "0fd8f7f0",
   "metadata": {},
   "outputs": [],
   "source": [
    "import re"
   ]
  },
  {
   "cell_type": "code",
   "execution_count": 4,
   "id": "a87966a6",
   "metadata": {},
   "outputs": [
    {
     "data": {
      "text/plain": [
       "<re.Match object; span=(12, 15), match='and'>"
      ]
     },
     "execution_count": 4,
     "metadata": {},
     "output_type": "execute_result"
    }
   ],
   "source": [
    "re.search(\"and\", \"I have tow hands\")"
   ]
  },
  {
   "cell_type": "code",
   "execution_count": 5,
   "id": "5bb20e8b",
   "metadata": {},
   "outputs": [
    {
     "name": "stdout",
     "output_type": "stream",
     "text": [
      "None\n"
     ]
    }
   ],
   "source": [
    "print(re.search(\"and\", \"antidote\"))"
   ]
  },
  {
   "cell_type": "code",
   "execution_count": 6,
   "id": "ff6c8217",
   "metadata": {},
   "outputs": [
    {
     "name": "stdout",
     "output_type": "stream",
     "text": [
      "Match\n"
     ]
    }
   ],
   "source": [
    "if re.search(\"and\", \"I have tow hands\"):\n",
    "    print(\"Match\")"
   ]
  },
  {
   "cell_type": "code",
   "execution_count": 7,
   "id": "1016566c",
   "metadata": {},
   "outputs": [
    {
     "name": "stdout",
     "output_type": "stream",
     "text": [
      "No Match\n"
     ]
    }
   ],
   "source": [
    "if re.search(\"abc\", \"I have tow hands\"):\n",
    "    print(\"Match\")\n",
    "else:\n",
    "    print(\"No Match\")"
   ]
  },
  {
   "cell_type": "code",
   "execution_count": 8,
   "id": "d4bbec45",
   "metadata": {},
   "outputs": [
    {
     "name": "stdout",
     "output_type": "stream",
     "text": [
      "Match\n",
      "No Match\n",
      "No Match\n"
     ]
    }
   ],
   "source": [
    "string_list = [\"Ali's favorite color is Blue.\",\n",
    "               \"Noman's favorite color is Green.\",\n",
    "               \"Ayesha's favorite colors are blue and red.\"]\n",
    "\n",
    "pattern = \"Blue\"\n",
    "\n",
    "for s in string_list:\n",
    "    if re.search(pattern, s):\n",
    "        print(\"Match\")\n",
    "    else:\n",
    "        print(\"No Match\")"
   ]
  },
  {
   "cell_type": "markdown",
   "id": "ed4facf8",
   "metadata": {},
   "source": [
    "<img src = \"set_1.svg\" width = \"100%\" />"
   ]
  },
  {
   "cell_type": "code",
   "execution_count": 9,
   "id": "882ecc23",
   "metadata": {},
   "outputs": [
    {
     "data": {
      "text/plain": [
       "<re.Match object; span=(0, 4), match='mend'>"
      ]
     },
     "execution_count": 9,
     "metadata": {},
     "output_type": "execute_result"
    }
   ],
   "source": [
    "pattern = \"[msb]end\"\n",
    "\n",
    "re.search(pattern, \"mend\")"
   ]
  },
  {
   "cell_type": "markdown",
   "id": "f13aa138",
   "metadata": {},
   "source": [
    "The regular expression above will match the strings `mend`, `send`, and `bend`."
   ]
  },
  {
   "cell_type": "markdown",
   "id": "9dddbc97",
   "metadata": {},
   "source": [
    "<img src = \"set_2.svg\" width = \"60%\" />"
   ]
  },
  {
   "cell_type": "code",
   "execution_count": 10,
   "id": "89c9b501",
   "metadata": {},
   "outputs": [],
   "source": [
    "titles = hn[\"title\"]\n",
    "python_mentions = 0\n",
    "pattern = \"[Pp]ython\"\n",
    "\n",
    "for t in titles:\n",
    "    if re.search(pattern, t):\n",
    "        python_mentions += 1"
   ]
  },
  {
   "cell_type": "code",
   "execution_count": 11,
   "id": "b1493b5b",
   "metadata": {},
   "outputs": [
    {
     "data": {
      "text/plain": [
       "160"
      ]
     },
     "execution_count": 11,
     "metadata": {},
     "output_type": "execute_result"
    }
   ],
   "source": [
    "python_mentions"
   ]
  },
  {
   "cell_type": "code",
   "execution_count": 12,
   "id": "0af2ef08",
   "metadata": {},
   "outputs": [
    {
     "data": {
      "text/plain": [
       "160"
      ]
     },
     "execution_count": 12,
     "metadata": {},
     "output_type": "execute_result"
    }
   ],
   "source": [
    "pattern = '[Pp]ython'\n",
    "\n",
    "python_mentions = titles.str.contains(pattern).sum()\n",
    "python_mentions"
   ]
  },
  {
   "cell_type": "code",
   "execution_count": 13,
   "id": "560799ae",
   "metadata": {},
   "outputs": [
    {
     "data": {
      "text/plain": [
       "102                  From Python to Lua: Why We Switched\n",
       "103            Ubuntu 16.04 LTS to Ship Without Python 2\n",
       "144    Create a GUI Application Using Qt and Python i...\n",
       "196    How I Solved GCHQ's Xmas Card with Python and ...\n",
       "436    Unikernel Power Comes to Java, Node.js, Go, an...\n",
       "Name: title, dtype: object"
      ]
     },
     "execution_count": 13,
     "metadata": {},
     "output_type": "execute_result"
    }
   ],
   "source": [
    "titles[titles.str.contains(\"[Pp]ython\")].head()"
   ]
  },
  {
   "cell_type": "markdown",
   "id": "58d7a2ad",
   "metadata": {},
   "source": [
    "`1000` to `2999`"
   ]
  },
  {
   "cell_type": "code",
   "execution_count": 14,
   "id": "aadabaa0",
   "metadata": {},
   "outputs": [
    {
     "data": {
      "text/plain": [
       "3     Note by Note: The Making of Steinway L1037 (2007)\n",
       "34                     The reverse job applicant (2010)\n",
       "50      Ask HN: Which framework for a CRUD app in 2016?\n",
       "59         2015 in review  1 year after I quit blogging\n",
       "80    Apple Watch Scooped Up Over Half the Smartwatc...\n",
       "Name: title, dtype: object"
      ]
     },
     "execution_count": 14,
     "metadata": {},
     "output_type": "execute_result"
    }
   ],
   "source": [
    "pattern = \"[1-2][0-9][0-9][0-9]\"\n",
    "\n",
    "titles[titles.str.contains(pattern)].head()"
   ]
  },
  {
   "cell_type": "markdown",
   "id": "f0952d1e",
   "metadata": {},
   "source": [
    "<img src = \"quantifiers_numeric.svg\" width = \"60%\" />"
   ]
  },
  {
   "cell_type": "markdown",
   "id": "7abed633",
   "metadata": {},
   "source": [
    "<img src = \"quantifier_example.svg\" width = \"70%\" />"
   ]
  },
  {
   "cell_type": "code",
   "execution_count": 15,
   "id": "e389383d",
   "metadata": {},
   "outputs": [
    {
     "data": {
      "text/plain": [
       "3     Note by Note: The Making of Steinway L1037 (2007)\n",
       "34                     The reverse job applicant (2010)\n",
       "50      Ask HN: Which framework for a CRUD app in 2016?\n",
       "59         2015 in review  1 year after I quit blogging\n",
       "80    Apple Watch Scooped Up Over Half the Smartwatc...\n",
       "Name: title, dtype: object"
      ]
     },
     "execution_count": 15,
     "metadata": {},
     "output_type": "execute_result"
    }
   ],
   "source": [
    "pattern = \"[1-2][0-9]{3}\"\n",
    "\n",
    "titles[titles.str.contains(pattern)].head()"
   ]
  },
  {
   "cell_type": "markdown",
   "id": "2561df70",
   "metadata": {},
   "source": [
    "<img src = \"character_classes_1.svg\" width = \"70%\" />\n",
    "<img src = \"character_classes_2.svg\" width = \"70%\" />"
   ]
  },
  {
   "cell_type": "code",
   "execution_count": 16,
   "id": "b3303838",
   "metadata": {},
   "outputs": [
    {
     "data": {
      "text/plain": [
       "3     Note by Note: The Making of Steinway L1037 (2007)\n",
       "34                     The reverse job applicant (2010)\n",
       "50      Ask HN: Which framework for a CRUD app in 2016?\n",
       "59         2015 in review  1 year after I quit blogging\n",
       "80    Apple Watch Scooped Up Over Half the Smartwatc...\n",
       "Name: title, dtype: object"
      ]
     },
     "execution_count": 16,
     "metadata": {},
     "output_type": "execute_result"
    }
   ],
   "source": [
    "pattern = \"[1-2]\\d{3}\"\n",
    "\n",
    "titles[titles.str.contains(pattern)].head()"
   ]
  },
  {
   "cell_type": "markdown",
   "id": "82258d3a",
   "metadata": {},
   "source": [
    "`email` or `e-mail`"
   ]
  },
  {
   "cell_type": "code",
   "execution_count": 17,
   "id": "a2f4b435",
   "metadata": {},
   "outputs": [
    {
     "data": {
      "text/plain": [
       "119     Show HN: Send an email from your shell to your...\n",
       "313         Disposable emails for safe spam free shopping\n",
       "1361    Ask HN: Doing cold emails? helps us prove this...\n",
       "1750    Protect yourself from spam, bots and phishing ...\n",
       "2421                   Ashley Madison hack treating email\n",
       "Name: title, dtype: object"
      ]
     },
     "execution_count": 17,
     "metadata": {},
     "output_type": "execute_result"
    }
   ],
   "source": [
    "pattern = 'e-{0,1}mail'\n",
    "\n",
    "titles[titles.str.contains(pattern)].head()"
   ]
  },
  {
   "cell_type": "markdown",
   "id": "b58c04b2",
   "metadata": {},
   "source": [
    "## Single Characters Qunatifers\n",
    "\n",
    "<img src = \"quantifiers_other.svg\" width = \"70%\" />"
   ]
  },
  {
   "cell_type": "markdown",
   "id": "0510cc51",
   "metadata": {},
   "source": [
    "`email` or `e-mail`"
   ]
  },
  {
   "cell_type": "code",
   "execution_count": 18,
   "id": "754b8d50",
   "metadata": {},
   "outputs": [
    {
     "data": {
      "text/plain": [
       "119     Show HN: Send an email from your shell to your...\n",
       "313         Disposable emails for safe spam free shopping\n",
       "1361    Ask HN: Doing cold emails? helps us prove this...\n",
       "1750    Protect yourself from spam, bots and phishing ...\n",
       "2421                   Ashley Madison hack treating email\n",
       "Name: title, dtype: object"
      ]
     },
     "execution_count": 18,
     "metadata": {},
     "output_type": "execute_result"
    }
   ],
   "source": [
    "pattern = 'e-?mail'\n",
    "\n",
    "titles[titles.str.contains(pattern)].head()"
   ]
  },
  {
   "cell_type": "markdown",
   "id": "966c0360",
   "metadata": {},
   "source": [
    "`[pdf]`, `[video]`, `[png]`, `[8]`, `[danial]`"
   ]
  },
  {
   "cell_type": "code",
   "execution_count": 19,
   "id": "8624bd8b",
   "metadata": {},
   "outputs": [
    {
     "data": {
      "text/plain": [
       "66       Analysis of 114 propaganda sources from ISIS, ...\n",
       "100      Munich Gunman Got Weapon from the Darknet [Ger...\n",
       "159           File indexing and searching for Plan 9 [pdf]\n",
       "162      Attack on Kunduz Trauma Centre, Afghanistan  I...\n",
       "195                 [Beta] Speedtest.net  HTML5 Speed Test\n",
       "                               ...                        \n",
       "19763    TSA can now force you to go through body scann...\n",
       "19867                       Using Pony for Fintech [video]\n",
       "19947                                Swift Reversing [pdf]\n",
       "19979    WSJ/Dowjones Announce Unauthorized Access Betw...\n",
       "20089    Users Really Do Plug in USB Drives They Find [...\n",
       "Name: title, Length: 444, dtype: object"
      ]
     },
     "execution_count": 19,
     "metadata": {},
     "output_type": "execute_result"
    }
   ],
   "source": [
    "pattern = '\\[\\w+\\]'\n",
    "\n",
    "titles[titles.str.contains(pattern)]"
   ]
  },
  {
   "cell_type": "markdown",
   "id": "438e8d65",
   "metadata": {},
   "source": [
    "`[pdf]`, `[video]`, `[png]`, `[8]`, `[danial]`, `[@khan]`"
   ]
  },
  {
   "cell_type": "code",
   "execution_count": 20,
   "id": "5c757543",
   "metadata": {},
   "outputs": [
    {
     "data": {
      "text/plain": [
       "66       Analysis of 114 propaganda sources from ISIS, ...\n",
       "100      Munich Gunman Got Weapon from the Darknet [Ger...\n",
       "159           File indexing and searching for Plan 9 [pdf]\n",
       "162      Attack on Kunduz Trauma Centre, Afghanistan  I...\n",
       "195                 [Beta] Speedtest.net  HTML5 Speed Test\n",
       "                               ...                        \n",
       "19867                       Using Pony for Fintech [video]\n",
       "19947                                Swift Reversing [pdf]\n",
       "19975    [FOR GIT USERS] YoLog  Lightweight Wrapper to ...\n",
       "19979    WSJ/Dowjones Announce Unauthorized Access Betw...\n",
       "20089    Users Really Do Plug in USB Drives They Find [...\n",
       "Name: title, Length: 471, dtype: object"
      ]
     },
     "execution_count": 20,
     "metadata": {},
     "output_type": "execute_result"
    }
   ],
   "source": [
    "pattern = '\\[.+\\]'\n",
    "\n",
    "titles[titles.str.contains(pattern)]"
   ]
  },
  {
   "cell_type": "markdown",
   "id": "a18540f3",
   "metadata": {},
   "source": [
    "### `Accessing the Matching Text with Capture Groups`"
   ]
  },
  {
   "cell_type": "code",
   "execution_count": 21,
   "id": "26e5db62",
   "metadata": {},
   "outputs": [
    {
     "data": {
      "text/plain": [
       "[pdf]       276\n",
       "[video]     111\n",
       "[audio]       3\n",
       "[2015]        3\n",
       "[slides]      2\n",
       "Name: title, dtype: int64"
      ]
     },
     "execution_count": 21,
     "metadata": {},
     "output_type": "execute_result"
    }
   ],
   "source": [
    "pattern = r\"(\\[\\w+\\])\"\n",
    "\n",
    "titles.str.extract(pattern, expand=False).value_counts().head()"
   ]
  },
  {
   "cell_type": "code",
   "execution_count": 22,
   "id": "08ace4b8",
   "metadata": {},
   "outputs": [
    {
     "data": {
      "text/plain": [
       "pdf      276\n",
       "video    111\n",
       "audio      3\n",
       "2015       3\n",
       "beta       2\n",
       "Name: title, dtype: int64"
      ]
     },
     "execution_count": 22,
     "metadata": {},
     "output_type": "execute_result"
    }
   ],
   "source": [
    "pattern = r\"\\[(\\w+)\\]\"\n",
    "\n",
    "titles.str.extract(pattern, expand=False).value_counts().head()"
   ]
  },
  {
   "cell_type": "code",
   "execution_count": 23,
   "id": "d4737730",
   "metadata": {},
   "outputs": [
    {
     "data": {
      "text/plain": [
       "Index(['pdf', 'video', 'audio', '2015', 'beta', 'slides', '2014', 'The Verge',\n",
       "       'CSS', 'Benchmark', 'Google Sheets', 'systemd-devel] [ANNOUNCE',\n",
       "       'Challenge', 'Reuters Institute survey', 'detainee', 'HBR', 'React',\n",
       "       'updated', 'Skinnywhale', 'Python][Angular', 'XKCD Flowchart',\n",
       "       'XSA-148', 'viz', 'coffee', 'Beta', 'Promo Codes in Comments',\n",
       "       'With Infographic', 'USA', 'FOR GIT USERS', 'map', 'January 2016',\n",
       "       'much', 'info needed', 'song', 'video/animation', '47:03',\n",
       "       'Ksummit-Discuss', 'GOST', 'gif', 'Will Replace Logstash Forwarder',\n",
       "       'videos', 'US Senate] [1996', 'Excerpt', 'Videos', 'comic',\n",
       "       'from AGPL to Apache', '5', 'ACM Queue', '2007?', 'dns-operations',\n",
       "       'Osmf-talk', 'German', 'Infograph', 'JavaScript', 'SpaceX',\n",
       "       'In a 40mph Collision', 'Ubuntu', 'Live', 'Halting Problem',\n",
       "       '] stroke and risk factors [', 'blank', '1:47', 'crash', 'satire',\n",
       "       'repost', 'Map', 'transcript', 'PHP-DEV', 'SPA', '2008', 'survey',\n",
       "       'png', 'Android App', 'Petition', 'ask', 'video, ~15min',\n",
       "       'video series', 'NSFW', 'Australian'],\n",
       "      dtype='object')"
      ]
     },
     "execution_count": 23,
     "metadata": {},
     "output_type": "execute_result"
    }
   ],
   "source": [
    "pattern = r\"\\[(.+)\\]\"\n",
    "\n",
    "titles.str.extract(pattern, expand=False).value_counts().index.unique()"
   ]
  },
  {
   "cell_type": "code",
   "execution_count": 24,
   "id": "9263ec69",
   "metadata": {},
   "outputs": [
    {
     "data": {
      "text/plain": [
       "'Danial  Gauhar'"
      ]
     },
     "execution_count": 24,
     "metadata": {},
     "output_type": "execute_result"
    }
   ],
   "source": [
    "\"Danial  Gauhar\".replace(\"\\s\",\"_\")"
   ]
  },
  {
   "cell_type": "code",
   "execution_count": 25,
   "id": "1fe18103",
   "metadata": {},
   "outputs": [
    {
     "name": "stderr",
     "output_type": "stream",
     "text": [
      "<ipython-input-25-b9f6ba2eda39>:1: FutureWarning: The default value of regex will change from True to False in a future version.\n",
      "  titles.str.replace(\"\\s\",\"_\")\n"
     ]
    },
    {
     "data": {
      "text/plain": [
       "0                                Interactive_Dynamic_Video\n",
       "1        Florida_DJs_May_Face_Felony_for_April_Fools'_W...\n",
       "2             Technology_ventures:_From_Idea_to_Enterprise\n",
       "3        Note_by_Note:_The_Making_of_Steinway_L1037_(2007)\n",
       "4        Title_II_kills_investment?_Comcast_and_other_I...\n",
       "                               ...                        \n",
       "20094    How_Purism_Avoids_Intels_Active_Management_Tec...\n",
       "20095            YC_Application_Translated_and_Broken_Down\n",
       "20096    Microkernels_are_slow_and_Elvis_didn't_do_no_d...\n",
       "20097                        How_Product_Hunt_really_works\n",
       "20098    RoboBrowser:_Your_friendly_neighborhood_web_sc...\n",
       "Name: title, Length: 20099, dtype: object"
      ]
     },
     "execution_count": 25,
     "metadata": {},
     "output_type": "execute_result"
    }
   ],
   "source": [
    "titles.str.replace(\"\\s\",\"_\")"
   ]
  },
  {
   "cell_type": "code",
   "execution_count": 26,
   "id": "630b9ea2",
   "metadata": {},
   "outputs": [
    {
     "data": {
      "text/plain": [
       "'Danial Gauhar'"
      ]
     },
     "execution_count": 26,
     "metadata": {},
     "output_type": "execute_result"
    }
   ],
   "source": [
    "re.sub(\"\\s+\",\" \",'Danial  Gauhar')"
   ]
  },
  {
   "cell_type": "markdown",
   "id": "4a842a00",
   "metadata": {},
   "source": [
    "### `Negative Character Classes`\n",
    "\n",
    "<img src = \"negative_character_classes.svg\" width = \"70%\" />"
   ]
  },
  {
   "cell_type": "code",
   "execution_count": 27,
   "id": "8ee8493f",
   "metadata": {},
   "outputs": [],
   "source": [
    "\"javascript\"\n",
    "\"javaScript\"\n",
    "\"java\"\n",
    "\"Java\"\n",
    "\n",
    "pattern = \"[jJ]ava[^Ss]\""
   ]
  },
  {
   "cell_type": "code",
   "execution_count": 28,
   "id": "49f57cbc",
   "metadata": {},
   "outputs": [],
   "source": [
    "a = \"I am Learning JavaScript\"\n",
    "b = \"I am Learning Javapython\"\n",
    "c = \"Java is my favourite\"\n",
    "d = \"I am Learning Java\"\n",
    "\n",
    "pattern = \"[jJ]ava[^Ss]\"\n",
    "\n",
    "re.search(pattern, d)"
   ]
  },
  {
   "cell_type": "markdown",
   "id": "9c8ebe39",
   "metadata": {},
   "source": [
    "### `Word Boundaries`"
   ]
  },
  {
   "cell_type": "code",
   "execution_count": 29,
   "id": "b210c3f0",
   "metadata": {},
   "outputs": [
    {
     "name": "stdout",
     "output_type": "stream",
     "text": [
      "hello\b\n"
     ]
    }
   ],
   "source": [
    "print(\"hello\\b\")"
   ]
  },
  {
   "cell_type": "code",
   "execution_count": 30,
   "id": "b0fad6bd",
   "metadata": {},
   "outputs": [
    {
     "name": "stdout",
     "output_type": "stream",
     "text": [
      "\bhello\b\n"
     ]
    }
   ],
   "source": [
    "print(\"\\bhello\\b\")"
   ]
  },
  {
   "cell_type": "code",
   "execution_count": 31,
   "id": "92cba069",
   "metadata": {},
   "outputs": [
    {
     "name": "stdout",
     "output_type": "stream",
     "text": [
      "\\bhello\\b\n"
     ]
    }
   ],
   "source": [
    "print(\"\\\\bhello\\\\b\")"
   ]
  },
  {
   "cell_type": "code",
   "execution_count": 32,
   "id": "daf2b491",
   "metadata": {},
   "outputs": [
    {
     "data": {
      "text/plain": [
       "<re.Match object; span=(14, 18), match='Java'>"
      ]
     },
     "execution_count": 32,
     "metadata": {},
     "output_type": "execute_result"
    }
   ],
   "source": [
    "a = \"I am Learning JavaScript\"\n",
    "b = \"I am Learning Javapython\"\n",
    "c = \"Java is my favourite\"\n",
    "d = \"I am Learning Java\"\n",
    "\n",
    "pattern = \"\\\\b[jJ]ava\\\\b\"\n",
    "\n",
    "re.search(pattern, d)"
   ]
  },
  {
   "cell_type": "code",
   "execution_count": 33,
   "id": "14cbe1b1",
   "metadata": {},
   "outputs": [
    {
     "data": {
      "text/plain": [
       "<re.Match object; span=(14, 15), match='C'>"
      ]
     },
     "execution_count": 33,
     "metadata": {},
     "output_type": "execute_result"
    }
   ],
   "source": [
    "a = \"I am Learning C\"\n",
    "b = \"I am Learning C++\"\n",
    "\n",
    "pattern = \"\\\\b[Cc]\\\\b\"\n",
    "\n",
    "re.search(pattern, b)"
   ]
  },
  {
   "cell_type": "markdown",
   "id": "72542f69",
   "metadata": {},
   "source": [
    "### `Matching at the Start and End of Strings`\n",
    "\n",
    "<img src = \"positional_anchors.svg\" width = \"70%\" />"
   ]
  },
  {
   "cell_type": "code",
   "execution_count": 34,
   "id": "ce7edab9",
   "metadata": {},
   "outputs": [
    {
     "data": {
      "text/plain": [
       "195                [Beta] Speedtest.net  HTML5 Speed Test\n",
       "398        [video] Google Self-Driving SUV Sideswipes Bus\n",
       "3136                          [CSS] Yellow Fade Technique\n",
       "5054    [React] proptypes-parser: Define React PropTyp...\n",
       "9389    [Petition] Tell Microsoft to stop making browsers\n",
       "Name: title, dtype: object"
      ]
     },
     "execution_count": 34,
     "metadata": {},
     "output_type": "execute_result"
    }
   ],
   "source": [
    "pattern_beginning = r\"^\\[\\w+\\]\"\n",
    "\n",
    "titles[titles.str.contains(pattern_beginning)].head()"
   ]
  },
  {
   "cell_type": "code",
   "execution_count": 35,
   "id": "c7086f96",
   "metadata": {},
   "outputs": [
    {
     "data": {
      "text/plain": [
       "66     Analysis of 114 propaganda sources from ISIS, ...\n",
       "100    Munich Gunman Got Weapon from the Darknet [Ger...\n",
       "159         File indexing and searching for Plan 9 [pdf]\n",
       "162    Attack on Kunduz Trauma Centre, Afghanistan  I...\n",
       "210    A plan to rescue western democracy from the ig...\n",
       "Name: title, dtype: object"
      ]
     },
     "execution_count": 35,
     "metadata": {},
     "output_type": "execute_result"
    }
   ],
   "source": [
    "pattern_ending =  r\"\\[\\w+\\]$\"\n",
    "\n",
    "titles[titles.str.contains(pattern_ending)].head()"
   ]
  },
  {
   "cell_type": "markdown",
   "id": "4274efc7",
   "metadata": {},
   "source": [
    "`email` ,`Email`, `e Mail`, `e mail`, `E-mail`, `e-mail`, `eMail`, `E-Mail`, `EMAIL`, `emails`, `Emails`, `E-Mails`"
   ]
  },
  {
   "cell_type": "code",
   "execution_count": 36,
   "id": "64858327",
   "metadata": {},
   "outputs": [
    {
     "data": {
      "text/plain": [
       "119      Show HN: Send an email from your shell to your...\n",
       "161      Computer Specialist Who Deleted Clinton Emails...\n",
       "174                                        Email Apps Suck\n",
       "261      Emails Show Unqualified Clinton Foundation Don...\n",
       "313          Disposable emails for safe spam free shopping\n",
       "                               ...                        \n",
       "18847    Show HN: Crisp iOS keyboard for email and text...\n",
       "19303    Ask HN: Why big email providers don't sign the...\n",
       "19395    I used HTML Email when applying for jobs, here...\n",
       "19446    Tell HN: Secure email provider Riseup will run...\n",
       "19905    Gmail Will Soon Warn Users When Emails Arrive ...\n",
       "Name: title, Length: 136, dtype: object"
      ]
     },
     "execution_count": 36,
     "metadata": {},
     "output_type": "execute_result"
    }
   ],
   "source": [
    "pattern = \"[Ee][Mm][Aa][Ii][Ll]\"\n",
    "\n",
    "titles[titles.str.contains(pattern)]"
   ]
  },
  {
   "cell_type": "code",
   "execution_count": 37,
   "id": "512cc05a",
   "metadata": {},
   "outputs": [
    {
     "data": {
      "text/plain": [
       "email    77\n",
       "Email    57\n",
       "EMAIL     1\n",
       "eMail     1\n",
       "dtype: int64"
      ]
     },
     "execution_count": 37,
     "metadata": {},
     "output_type": "execute_result"
    }
   ],
   "source": [
    "pattern = \"([Ee][Mm][Aa][Ii][Ll])\"\n",
    "\n",
    "titles.str.extract(pattern).value_counts()"
   ]
  },
  {
   "cell_type": "code",
   "execution_count": 38,
   "id": "6e667a24",
   "metadata": {},
   "outputs": [
    {
     "data": {
      "text/plain": [
       "email    77\n",
       "Email    57\n",
       "EMAIL     1\n",
       "eMail     1\n",
       "dtype: int64"
      ]
     },
     "execution_count": 38,
     "metadata": {},
     "output_type": "execute_result"
    }
   ],
   "source": [
    "pattern = \"(email)\"\n",
    "\n",
    "titles.str.extract(pattern, flags = re.I).value_counts() # Ignore Case"
   ]
  },
  {
   "cell_type": "code",
   "execution_count": 39,
   "id": "65b8d6fd",
   "metadata": {},
   "outputs": [
    {
     "data": {
      "text/plain": [
       "email      57\n",
       "Email      42\n",
       "emails     18\n",
       "Emails     15\n",
       "e Mail      5\n",
       "e-mail      5\n",
       "e mail      4\n",
       "E-mails     2\n",
       "E-Mail      1\n",
       "EMAIL       1\n",
       "eMail       1\n",
       "dtype: int64"
      ]
     },
     "execution_count": 39,
     "metadata": {},
     "output_type": "execute_result"
    }
   ],
   "source": [
    "pattern = \"(e[\\s-]?mails?)\"\n",
    "\n",
    "titles.str.extract(pattern, flags = re.I).value_counts() # Ignore Case"
   ]
  },
  {
   "cell_type": "code",
   "execution_count": 40,
   "id": "9409ccab",
   "metadata": {},
   "outputs": [
    {
     "name": "stdout",
     "output_type": "stream",
     "text": [
      "\bhello\b\n"
     ]
    }
   ],
   "source": [
    "print(\"\\bhello\\b\")"
   ]
  },
  {
   "cell_type": "code",
   "execution_count": 41,
   "id": "d9476920",
   "metadata": {},
   "outputs": [
    {
     "name": "stdout",
     "output_type": "stream",
     "text": [
      "\\bhello\\b\n"
     ]
    }
   ],
   "source": [
    "print(r\"\\bhello\\b\")"
   ]
  },
  {
   "cell_type": "markdown",
   "id": "45338eaf",
   "metadata": {},
   "source": [
    "`mysql`, `PostgreSQL`, `SQL` "
   ]
  },
  {
   "cell_type": "code",
   "execution_count": 42,
   "id": "a421c02e",
   "metadata": {},
   "outputs": [
    {
     "data": {
      "text/plain": [
       "PostgreSQL    27\n",
       "NoSQL         16\n",
       "MySQL         12\n",
       "CloudSQL       1\n",
       "MemSQL         1\n",
       "SparkSQL       1\n",
       "mySql          1\n",
       "nosql          1\n",
       "dtype: int64"
      ]
     },
     "execution_count": 42,
     "metadata": {},
     "output_type": "execute_result"
    }
   ],
   "source": [
    "pattern = r\"(\\w+sql)\"\n",
    "\n",
    "titles.str.extract(pattern, flags = re.I).value_counts()"
   ]
  },
  {
   "cell_type": "code",
   "execution_count": 43,
   "id": "53da67f4",
   "metadata": {},
   "outputs": [
    {
     "data": {
      "text/plain": [
       "SQL    36\n",
       "sql     3\n",
       "dtype: int64"
      ]
     },
     "execution_count": 43,
     "metadata": {},
     "output_type": "execute_result"
    }
   ],
   "source": [
    "pattern = r\"(\\bsql\\b)\"\n",
    "\n",
    "titles.str.extract(pattern, flags = re.I).value_counts()"
   ]
  },
  {
   "cell_type": "markdown",
   "id": "b84aa40f",
   "metadata": {},
   "source": [
    "`Counting Mentions of the 'C' Language`"
   ]
  },
  {
   "cell_type": "code",
   "execution_count": 44,
   "id": "203824d8",
   "metadata": {},
   "outputs": [
    {
     "data": {
      "text/plain": [
       "13                  Custom Deleters for C++ Smart Pointers\n",
       "220                         Lisp, C++: Sadness in my heart\n",
       "221                   MemSQL (YC W11) Raises $36M Series C\n",
       "353      VW C.E.O. Personally Apologized to President O...\n",
       "365                       The new C standards are worth it\n",
       "                               ...                        \n",
       "19667                         Ill-Advised C++ Rant, Part 2\n",
       "19799    Introducing a new, advanced Visual C++ code op...\n",
       "19829    Ferret: Compiling a Subset of Clojure to ISO C...\n",
       "19933    Lightweight C library to parse NMEA 0183 sente...\n",
       "19997                                    Proposal: C.UTF-8\n",
       "Name: title, Length: 190, dtype: object"
      ]
     },
     "execution_count": 44,
     "metadata": {},
     "output_type": "execute_result"
    }
   ],
   "source": [
    "pattern = r\"\\b[Cc]\\b\"\n",
    "\n",
    "titles[titles.str.contains(pattern)]"
   ]
  },
  {
   "cell_type": "code",
   "execution_count": 45,
   "id": "eb2af0c3",
   "metadata": {},
   "outputs": [
    {
     "data": {
      "text/plain": [
       "365                       The new C standards are worth it\n",
       "444            Moz raises $10m Series C from Foundry Group\n",
       "521           Fuchsia: Micro kernel written in C by Google\n",
       "1307             Show HN: Yupp, yet another C preprocessor\n",
       "1326                      The C standard formalized in Coq\n",
       "                               ...                        \n",
       "18543                 C-style for loops removed from Swift\n",
       "18549            Show HN: An awesome C library for Windows\n",
       "18649                 Python vs. C/C++ in embedded systems\n",
       "19151                      Ask HN: How to learn C in 2016?\n",
       "19933    Lightweight C library to parse NMEA 0183 sente...\n",
       "Name: title, Length: 84, dtype: object"
      ]
     },
     "execution_count": 45,
     "metadata": {},
     "output_type": "execute_result"
    }
   ],
   "source": [
    "pattern = r\"\\b[Cc]\\b[^.+]\"\n",
    "\n",
    "titles[titles.str.contains(pattern)]"
   ]
  },
  {
   "cell_type": "markdown",
   "id": "998c1eb2",
   "metadata": {},
   "source": [
    "# `Lookarounds`\n",
    "\n",
    "<img src = \"lookarounds.svg\" width = \"70%\" />"
   ]
  },
  {
   "cell_type": "code",
   "execution_count": 46,
   "id": "f0f2a3c3",
   "metadata": {},
   "outputs": [
    {
     "data": {
      "text/plain": [
       "365                       The new C standards are worth it\n",
       "521           Fuchsia: Micro kernel written in C by Google\n",
       "1307             Show HN: Yupp, yet another C preprocessor\n",
       "1326                      The C standard formalized in Coq\n",
       "1365                           GNU C Library 2.23 released\n",
       "                               ...                        \n",
       "18543                 C-style for loops removed from Swift\n",
       "18549            Show HN: An awesome C library for Windows\n",
       "18649                 Python vs. C/C++ in embedded systems\n",
       "19151                      Ask HN: How to learn C in 2016?\n",
       "19933    Lightweight C library to parse NMEA 0183 sente...\n",
       "Name: title, Length: 102, dtype: object"
      ]
     },
     "execution_count": 46,
     "metadata": {},
     "output_type": "execute_result"
    }
   ],
   "source": [
    "pattern = r\"(?<!Series\\s)\\b[Cc]\\b(?![+\\.])\"\n",
    "\n",
    "titles[titles.str.contains(pattern)]"
   ]
  },
  {
   "cell_type": "markdown",
   "id": "9ac4d438",
   "metadata": {},
   "source": [
    "`BackReferences Using Capture Groups`"
   ]
  },
  {
   "cell_type": "code",
   "execution_count": 47,
   "id": "f956cd6b",
   "metadata": {},
   "outputs": [],
   "source": [
    "\"Saad Saad\"\n",
    "\"Bye Bye\"\n",
    "\"Women Women\"\n",
    "\n",
    "pattern = r\"\\b(\\w+)\\s\\1\\b\""
   ]
  },
  {
   "cell_type": "code",
   "execution_count": 48,
   "id": "409cd02d",
   "metadata": {},
   "outputs": [
    {
     "name": "stderr",
     "output_type": "stream",
     "text": [
      "C:\\Users\\muham\\anaconda3\\lib\\site-packages\\pandas\\core\\strings\\accessor.py:101: UserWarning: This pattern has match groups. To actually get the groups, use str.extract.\n",
      "  return func(self, *args, **kwargs)\n"
     ]
    },
    {
     "data": {
      "text/plain": [
       "3102                  Silicon Valley Has a Problem Problem\n",
       "3176                Wire Wire: A West African Cyber Threat\n",
       "3178                         Flexbox Cheatsheet Cheatsheet\n",
       "4797                            The Mindset Mindset (2015)\n",
       "7276     Valentine's Day Special: Bye Bye Tinder, Flirt...\n",
       "10371    Mcdonalds copying cyriak  cows cows cows in th...\n",
       "11575                                    Bang Bang Control\n",
       "11901          Cordless Telephones: Bye Bye Privacy (1991)\n",
       "12697          Solving the the Monty-Hall-Problem in Swift\n",
       "15049    Bye Bye Webrtc2SIP: WebRTC with Asterisk and A...\n",
       "15839          Intellij-Rust Rust Plugin for IntelliJ IDEA\n",
       "Name: title, dtype: object"
      ]
     },
     "execution_count": 48,
     "metadata": {},
     "output_type": "execute_result"
    }
   ],
   "source": [
    "pattern = r\"\\b(\\w+)\\s\\1\\b\"\n",
    "\n",
    "titles[titles.str.contains(pattern)]"
   ]
  },
  {
   "cell_type": "code",
   "execution_count": 49,
   "id": "1507c3d2",
   "metadata": {},
   "outputs": [
    {
     "data": {
      "text/plain": [
       "10371    Mcdonalds copying cyriak  cows cows cows in th...\n",
       "Name: title, dtype: object"
      ]
     },
     "execution_count": 49,
     "metadata": {},
     "output_type": "execute_result"
    }
   ],
   "source": [
    "pattern = r\"\\b(\\w+)\\s\\1\\s\\1\\b\"\n",
    "\n",
    "titles[titles.str.contains(pattern)]"
   ]
  },
  {
   "cell_type": "code",
   "execution_count": 50,
   "id": "e45984a5",
   "metadata": {},
   "outputs": [
    {
     "data": {
      "text/plain": [
       "<re.Match object; span=(0, 21), match='Problem OK OK Problem'>"
      ]
     },
     "execution_count": 50,
     "metadata": {},
     "output_type": "execute_result"
    }
   ],
   "source": [
    "string = \"Problem OK OK Problem\"\n",
    "\n",
    "pattern = r\"\\b(\\w+)\\s(\\w+)\\s\\2\\s\\1\\b\"\n",
    "\n",
    "re.search(pattern, string)"
   ]
  },
  {
   "cell_type": "code",
   "execution_count": 51,
   "id": "32632a42",
   "metadata": {},
   "outputs": [
    {
     "data": {
      "text/plain": [
       "0              http://www.interactivedynamicvideo.com/\n",
       "1    http://www.thewire.com/entertainment/2013/04/f...\n",
       "2    https://www.amazon.com/Technology-Ventures-Ent...\n",
       "3    http://www.nytimes.com/2007/11/07/movies/07ste...\n",
       "4    http://arstechnica.com/business/2015/10/comcas...\n",
       "Name: url, dtype: object"
      ]
     },
     "execution_count": 51,
     "metadata": {},
     "output_type": "execute_result"
    }
   ],
   "source": [
    "url = hn[\"url\"]\n",
    "url.head()"
   ]
  },
  {
   "cell_type": "code",
   "execution_count": 52,
   "id": "54c0acde",
   "metadata": {},
   "outputs": [
    {
     "data": {
      "text/html": [
       "<div>\n",
       "<style scoped>\n",
       "    .dataframe tbody tr th:only-of-type {\n",
       "        vertical-align: middle;\n",
       "    }\n",
       "\n",
       "    .dataframe tbody tr th {\n",
       "        vertical-align: top;\n",
       "    }\n",
       "\n",
       "    .dataframe thead th {\n",
       "        text-align: right;\n",
       "    }\n",
       "</style>\n",
       "<table border=\"1\" class=\"dataframe\">\n",
       "  <thead>\n",
       "    <tr style=\"text-align: right;\">\n",
       "      <th></th>\n",
       "      <th>Domain</th>\n",
       "    </tr>\n",
       "  </thead>\n",
       "  <tbody>\n",
       "    <tr>\n",
       "      <th>0</th>\n",
       "      <td>www.interactivedynamicvideo.com</td>\n",
       "    </tr>\n",
       "    <tr>\n",
       "      <th>1</th>\n",
       "      <td>www.thewire.com</td>\n",
       "    </tr>\n",
       "    <tr>\n",
       "      <th>2</th>\n",
       "      <td>www.amazon.com</td>\n",
       "    </tr>\n",
       "    <tr>\n",
       "      <th>3</th>\n",
       "      <td>www.nytimes.com</td>\n",
       "    </tr>\n",
       "    <tr>\n",
       "      <th>4</th>\n",
       "      <td>arstechnica.com</td>\n",
       "    </tr>\n",
       "    <tr>\n",
       "      <th>...</th>\n",
       "      <td>...</td>\n",
       "    </tr>\n",
       "    <tr>\n",
       "      <th>20094</th>\n",
       "      <td>puri.sm</td>\n",
       "    </tr>\n",
       "    <tr>\n",
       "      <th>20095</th>\n",
       "      <td>medium.com</td>\n",
       "    </tr>\n",
       "    <tr>\n",
       "      <th>20096</th>\n",
       "      <td>blog.darknedgy.net</td>\n",
       "    </tr>\n",
       "    <tr>\n",
       "      <th>20097</th>\n",
       "      <td>medium.com</td>\n",
       "    </tr>\n",
       "    <tr>\n",
       "      <th>20098</th>\n",
       "      <td>github.com</td>\n",
       "    </tr>\n",
       "  </tbody>\n",
       "</table>\n",
       "<p>20099 rows × 1 columns</p>\n",
       "</div>"
      ],
      "text/plain": [
       "                                Domain\n",
       "0      www.interactivedynamicvideo.com\n",
       "1                      www.thewire.com\n",
       "2                       www.amazon.com\n",
       "3                      www.nytimes.com\n",
       "4                      arstechnica.com\n",
       "...                                ...\n",
       "20094                          puri.sm\n",
       "20095                       medium.com\n",
       "20096               blog.darknedgy.net\n",
       "20097                       medium.com\n",
       "20098                       github.com\n",
       "\n",
       "[20099 rows x 1 columns]"
      ]
     },
     "execution_count": 52,
     "metadata": {},
     "output_type": "execute_result"
    }
   ],
   "source": [
    "pattern = r\"https?://(?P<Domain>[\\w.]+)/?[\\w.]*\"\n",
    "\n",
    "\n",
    "url.str.extract(pattern)"
   ]
  },
  {
   "cell_type": "code",
   "execution_count": 53,
   "id": "e3d53fcd",
   "metadata": {},
   "outputs": [
    {
     "data": {
      "text/html": [
       "<div>\n",
       "<style scoped>\n",
       "    .dataframe tbody tr th:only-of-type {\n",
       "        vertical-align: middle;\n",
       "    }\n",
       "\n",
       "    .dataframe tbody tr th {\n",
       "        vertical-align: top;\n",
       "    }\n",
       "\n",
       "    .dataframe thead th {\n",
       "        text-align: right;\n",
       "    }\n",
       "</style>\n",
       "<table border=\"1\" class=\"dataframe\">\n",
       "  <thead>\n",
       "    <tr style=\"text-align: right;\">\n",
       "      <th></th>\n",
       "      <th>0</th>\n",
       "      <th>1</th>\n",
       "      <th>2</th>\n",
       "    </tr>\n",
       "  </thead>\n",
       "  <tbody>\n",
       "    <tr>\n",
       "      <th>0</th>\n",
       "      <td>http</td>\n",
       "      <td>www.interactivedynamicvideo.com</td>\n",
       "      <td></td>\n",
       "    </tr>\n",
       "    <tr>\n",
       "      <th>1</th>\n",
       "      <td>http</td>\n",
       "      <td>www.thewire.com</td>\n",
       "      <td>entertainment</td>\n",
       "    </tr>\n",
       "    <tr>\n",
       "      <th>2</th>\n",
       "      <td>https</td>\n",
       "      <td>www.amazon.com</td>\n",
       "      <td>Technology</td>\n",
       "    </tr>\n",
       "    <tr>\n",
       "      <th>3</th>\n",
       "      <td>http</td>\n",
       "      <td>www.nytimes.com</td>\n",
       "      <td>2007</td>\n",
       "    </tr>\n",
       "    <tr>\n",
       "      <th>4</th>\n",
       "      <td>http</td>\n",
       "      <td>arstechnica.com</td>\n",
       "      <td>business</td>\n",
       "    </tr>\n",
       "    <tr>\n",
       "      <th>...</th>\n",
       "      <td>...</td>\n",
       "      <td>...</td>\n",
       "      <td>...</td>\n",
       "    </tr>\n",
       "    <tr>\n",
       "      <th>20094</th>\n",
       "      <td>https</td>\n",
       "      <td>puri.sm</td>\n",
       "      <td>philosophy</td>\n",
       "    </tr>\n",
       "    <tr>\n",
       "      <th>20095</th>\n",
       "      <td>https</td>\n",
       "      <td>medium.com</td>\n",
       "      <td></td>\n",
       "    </tr>\n",
       "    <tr>\n",
       "      <th>20096</th>\n",
       "      <td>http</td>\n",
       "      <td>blog.darknedgy.net</td>\n",
       "      <td>technology</td>\n",
       "    </tr>\n",
       "    <tr>\n",
       "      <th>20097</th>\n",
       "      <td>https</td>\n",
       "      <td>medium.com</td>\n",
       "      <td></td>\n",
       "    </tr>\n",
       "    <tr>\n",
       "      <th>20098</th>\n",
       "      <td>https</td>\n",
       "      <td>github.com</td>\n",
       "      <td>jmcarp</td>\n",
       "    </tr>\n",
       "  </tbody>\n",
       "</table>\n",
       "<p>20099 rows × 3 columns</p>\n",
       "</div>"
      ],
      "text/plain": [
       "           0                                1              2\n",
       "0       http  www.interactivedynamicvideo.com               \n",
       "1       http                  www.thewire.com  entertainment\n",
       "2      https                   www.amazon.com     Technology\n",
       "3       http                  www.nytimes.com           2007\n",
       "4       http                  arstechnica.com       business\n",
       "...      ...                              ...            ...\n",
       "20094  https                          puri.sm     philosophy\n",
       "20095  https                       medium.com               \n",
       "20096   http               blog.darknedgy.net     technology\n",
       "20097  https                       medium.com               \n",
       "20098  https                       github.com         jmcarp\n",
       "\n",
       "[20099 rows x 3 columns]"
      ]
     },
     "execution_count": 53,
     "metadata": {},
     "output_type": "execute_result"
    }
   ],
   "source": [
    "pattern = r\"(\\w+)://([\\w.]+)/?([\\w.]*)\"\n",
    "\n",
    "\n",
    "url.str.extract(pattern)"
   ]
  },
  {
   "cell_type": "code",
   "execution_count": 54,
   "id": "92fea0cd",
   "metadata": {},
   "outputs": [
    {
     "data": {
      "text/html": [
       "<div>\n",
       "<style scoped>\n",
       "    .dataframe tbody tr th:only-of-type {\n",
       "        vertical-align: middle;\n",
       "    }\n",
       "\n",
       "    .dataframe tbody tr th {\n",
       "        vertical-align: top;\n",
       "    }\n",
       "\n",
       "    .dataframe thead th {\n",
       "        text-align: right;\n",
       "    }\n",
       "</style>\n",
       "<table border=\"1\" class=\"dataframe\">\n",
       "  <thead>\n",
       "    <tr style=\"text-align: right;\">\n",
       "      <th></th>\n",
       "      <th>Protocol</th>\n",
       "      <th>Domain</th>\n",
       "      <th>Path</th>\n",
       "    </tr>\n",
       "  </thead>\n",
       "  <tbody>\n",
       "    <tr>\n",
       "      <th>0</th>\n",
       "      <td>http</td>\n",
       "      <td>www.interactivedynamicvideo.com</td>\n",
       "      <td></td>\n",
       "    </tr>\n",
       "    <tr>\n",
       "      <th>1</th>\n",
       "      <td>http</td>\n",
       "      <td>www.thewire.com</td>\n",
       "      <td>entertainment</td>\n",
       "    </tr>\n",
       "    <tr>\n",
       "      <th>2</th>\n",
       "      <td>https</td>\n",
       "      <td>www.amazon.com</td>\n",
       "      <td>Technology</td>\n",
       "    </tr>\n",
       "    <tr>\n",
       "      <th>3</th>\n",
       "      <td>http</td>\n",
       "      <td>www.nytimes.com</td>\n",
       "      <td>2007</td>\n",
       "    </tr>\n",
       "    <tr>\n",
       "      <th>4</th>\n",
       "      <td>http</td>\n",
       "      <td>arstechnica.com</td>\n",
       "      <td>business</td>\n",
       "    </tr>\n",
       "    <tr>\n",
       "      <th>...</th>\n",
       "      <td>...</td>\n",
       "      <td>...</td>\n",
       "      <td>...</td>\n",
       "    </tr>\n",
       "    <tr>\n",
       "      <th>20094</th>\n",
       "      <td>https</td>\n",
       "      <td>puri.sm</td>\n",
       "      <td>philosophy</td>\n",
       "    </tr>\n",
       "    <tr>\n",
       "      <th>20095</th>\n",
       "      <td>https</td>\n",
       "      <td>medium.com</td>\n",
       "      <td></td>\n",
       "    </tr>\n",
       "    <tr>\n",
       "      <th>20096</th>\n",
       "      <td>http</td>\n",
       "      <td>blog.darknedgy.net</td>\n",
       "      <td>technology</td>\n",
       "    </tr>\n",
       "    <tr>\n",
       "      <th>20097</th>\n",
       "      <td>https</td>\n",
       "      <td>medium.com</td>\n",
       "      <td></td>\n",
       "    </tr>\n",
       "    <tr>\n",
       "      <th>20098</th>\n",
       "      <td>https</td>\n",
       "      <td>github.com</td>\n",
       "      <td>jmcarp</td>\n",
       "    </tr>\n",
       "  </tbody>\n",
       "</table>\n",
       "<p>20099 rows × 3 columns</p>\n",
       "</div>"
      ],
      "text/plain": [
       "      Protocol                           Domain           Path\n",
       "0         http  www.interactivedynamicvideo.com               \n",
       "1         http                  www.thewire.com  entertainment\n",
       "2        https                   www.amazon.com     Technology\n",
       "3         http                  www.nytimes.com           2007\n",
       "4         http                  arstechnica.com       business\n",
       "...        ...                              ...            ...\n",
       "20094    https                          puri.sm     philosophy\n",
       "20095    https                       medium.com               \n",
       "20096     http               blog.darknedgy.net     technology\n",
       "20097    https                       medium.com               \n",
       "20098    https                       github.com         jmcarp\n",
       "\n",
       "[20099 rows x 3 columns]"
      ]
     },
     "execution_count": 54,
     "metadata": {},
     "output_type": "execute_result"
    }
   ],
   "source": [
    "pattern = r\"(?P<Protocol>\\w+)://(?P<Domain>[\\w.]+)/?(?P<Path>[\\w.]*)\"\n",
    "\n",
    "\n",
    "url.str.extract(pattern)"
   ]
  },
  {
   "cell_type": "code",
   "execution_count": null,
   "id": "ed8b8d2f",
   "metadata": {},
   "outputs": [],
   "source": []
  }
 ],
 "metadata": {
  "kernelspec": {
   "display_name": "Python 3",
   "language": "python",
   "name": "python3"
  },
  "language_info": {
   "codemirror_mode": {
    "name": "ipython",
    "version": 3
   },
   "file_extension": ".py",
   "mimetype": "text/x-python",
   "name": "python",
   "nbconvert_exporter": "python",
   "pygments_lexer": "ipython3",
   "version": "3.8.8"
  }
 },
 "nbformat": 4,
 "nbformat_minor": 5
}
